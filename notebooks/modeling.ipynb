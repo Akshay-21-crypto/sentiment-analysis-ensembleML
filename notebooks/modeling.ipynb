{
 "cells": [
  {
   "cell_type": "code",
   "execution_count": 1,
   "id": "04f7391e",
   "metadata": {},
   "outputs": [],
   "source": [
    "import pandas as pd\n",
    "import numpy as np\n",
    "import matplotlib.pyplot as plt\n",
    "import warnings\n",
    "warnings.filterwarnings('ignore')\n",
    "\n",
    "#Load Data\n",
    "\n",
    "yelp_data = pd.read_csv('yelp_data_sentiment.csv')"
   ]
  },
  {
   "cell_type": "code",
   "execution_count": 2,
   "id": "4a8a1262",
   "metadata": {},
   "outputs": [
    {
     "data": {
      "text/html": [
       "<div>\n",
       "<style scoped>\n",
       "    .dataframe tbody tr th:only-of-type {\n",
       "        vertical-align: middle;\n",
       "    }\n",
       "\n",
       "    .dataframe tbody tr th {\n",
       "        vertical-align: top;\n",
       "    }\n",
       "\n",
       "    .dataframe thead th {\n",
       "        text-align: right;\n",
       "    }\n",
       "</style>\n",
       "<table border=\"1\" class=\"dataframe\">\n",
       "  <thead>\n",
       "    <tr style=\"text-align: right;\">\n",
       "      <th></th>\n",
       "      <th>Name</th>\n",
       "      <th>Review</th>\n",
       "      <th>Polarity</th>\n",
       "      <th>Sentiment</th>\n",
       "      <th>Positive_Words_P</th>\n",
       "      <th>chocol</th>\n",
       "      <th>cup</th>\n",
       "      <th>amaz</th>\n",
       "      <th>eat</th>\n",
       "      <th>year</th>\n",
       "      <th>...</th>\n",
       "      <th>linguin</th>\n",
       "      <th>linguini</th>\n",
       "      <th>jimmi</th>\n",
       "      <th>player</th>\n",
       "      <th>juliana</th>\n",
       "      <th>pool tabl</th>\n",
       "      <th>castl</th>\n",
       "      <th>falafel</th>\n",
       "      <th>paella</th>\n",
       "      <th>white castl</th>\n",
       "    </tr>\n",
       "  </thead>\n",
       "  <tbody>\n",
       "    <tr>\n",
       "      <th>0</th>\n",
       "      <td>Morris Park Bake Shop</td>\n",
       "      <td>'The chocolate cups are amazing! Have been eat...</td>\n",
       "      <td>0.500000</td>\n",
       "      <td>Positive</td>\n",
       "      <td>0.222222</td>\n",
       "      <td>0.0</td>\n",
       "      <td>0.0</td>\n",
       "      <td>0.0</td>\n",
       "      <td>0.0</td>\n",
       "      <td>0.000000</td>\n",
       "      <td>...</td>\n",
       "      <td>0.0</td>\n",
       "      <td>0.0</td>\n",
       "      <td>0.0</td>\n",
       "      <td>0.0</td>\n",
       "      <td>0.0</td>\n",
       "      <td>0.0</td>\n",
       "      <td>0.000000</td>\n",
       "      <td>0.0</td>\n",
       "      <td>0.0</td>\n",
       "      <td>0.0</td>\n",
       "    </tr>\n",
       "    <tr>\n",
       "      <th>1</th>\n",
       "      <td>Morris Park Bake Shop</td>\n",
       "      <td>'Morris Park Bake Shop has become my go to spo...</td>\n",
       "      <td>0.338889</td>\n",
       "      <td>Slightly Positive</td>\n",
       "      <td>0.206897</td>\n",
       "      <td>0.0</td>\n",
       "      <td>0.0</td>\n",
       "      <td>0.0</td>\n",
       "      <td>0.0</td>\n",
       "      <td>0.000000</td>\n",
       "      <td>...</td>\n",
       "      <td>0.0</td>\n",
       "      <td>0.0</td>\n",
       "      <td>0.0</td>\n",
       "      <td>0.0</td>\n",
       "      <td>0.0</td>\n",
       "      <td>0.0</td>\n",
       "      <td>0.000000</td>\n",
       "      <td>0.0</td>\n",
       "      <td>0.0</td>\n",
       "      <td>0.0</td>\n",
       "    </tr>\n",
       "    <tr>\n",
       "      <th>2</th>\n",
       "      <td>Morris Park Bake Shop</td>\n",
       "      <td>'I thought the cookies and biscotti were prett...</td>\n",
       "      <td>0.314583</td>\n",
       "      <td>Slightly Positive</td>\n",
       "      <td>0.130435</td>\n",
       "      <td>0.0</td>\n",
       "      <td>0.0</td>\n",
       "      <td>0.0</td>\n",
       "      <td>0.0</td>\n",
       "      <td>0.160339</td>\n",
       "      <td>...</td>\n",
       "      <td>0.0</td>\n",
       "      <td>0.0</td>\n",
       "      <td>0.0</td>\n",
       "      <td>0.0</td>\n",
       "      <td>0.0</td>\n",
       "      <td>0.0</td>\n",
       "      <td>0.000000</td>\n",
       "      <td>0.0</td>\n",
       "      <td>0.0</td>\n",
       "      <td>0.0</td>\n",
       "    </tr>\n",
       "    <tr>\n",
       "      <th>3</th>\n",
       "      <td>Morris Park Bake Shop</td>\n",
       "      <td>'Guys.... so Im a big time biscotti connoisseu...</td>\n",
       "      <td>0.238068</td>\n",
       "      <td>Slightly Positive</td>\n",
       "      <td>0.127660</td>\n",
       "      <td>0.0</td>\n",
       "      <td>0.0</td>\n",
       "      <td>0.0</td>\n",
       "      <td>0.0</td>\n",
       "      <td>0.000000</td>\n",
       "      <td>...</td>\n",
       "      <td>0.0</td>\n",
       "      <td>0.0</td>\n",
       "      <td>0.0</td>\n",
       "      <td>0.0</td>\n",
       "      <td>0.0</td>\n",
       "      <td>0.0</td>\n",
       "      <td>0.149255</td>\n",
       "      <td>0.0</td>\n",
       "      <td>0.0</td>\n",
       "      <td>0.0</td>\n",
       "    </tr>\n",
       "    <tr>\n",
       "      <th>4</th>\n",
       "      <td>Morris Park Bake Shop</td>\n",
       "      <td>'I had a craving for a special type of cake wi...</td>\n",
       "      <td>0.314643</td>\n",
       "      <td>Slightly Positive</td>\n",
       "      <td>0.218750</td>\n",
       "      <td>0.0</td>\n",
       "      <td>0.0</td>\n",
       "      <td>0.0</td>\n",
       "      <td>0.0</td>\n",
       "      <td>0.000000</td>\n",
       "      <td>...</td>\n",
       "      <td>0.0</td>\n",
       "      <td>0.0</td>\n",
       "      <td>0.0</td>\n",
       "      <td>0.0</td>\n",
       "      <td>0.0</td>\n",
       "      <td>0.0</td>\n",
       "      <td>0.000000</td>\n",
       "      <td>0.0</td>\n",
       "      <td>0.0</td>\n",
       "      <td>0.0</td>\n",
       "    </tr>\n",
       "  </tbody>\n",
       "</table>\n",
       "<p>5 rows × 1761 columns</p>\n",
       "</div>"
      ],
      "text/plain": [
       "                    Name                                             Review  \\\n",
       "0  Morris Park Bake Shop  'The chocolate cups are amazing! Have been eat...   \n",
       "1  Morris Park Bake Shop  'Morris Park Bake Shop has become my go to spo...   \n",
       "2  Morris Park Bake Shop  'I thought the cookies and biscotti were prett...   \n",
       "3  Morris Park Bake Shop  'Guys.... so Im a big time biscotti connoisseu...   \n",
       "4  Morris Park Bake Shop  'I had a craving for a special type of cake wi...   \n",
       "\n",
       "   Polarity          Sentiment  Positive_Words_P  chocol  cup  amaz  eat  \\\n",
       "0  0.500000           Positive          0.222222     0.0  0.0   0.0  0.0   \n",
       "1  0.338889  Slightly Positive          0.206897     0.0  0.0   0.0  0.0   \n",
       "2  0.314583  Slightly Positive          0.130435     0.0  0.0   0.0  0.0   \n",
       "3  0.238068  Slightly Positive          0.127660     0.0  0.0   0.0  0.0   \n",
       "4  0.314643  Slightly Positive          0.218750     0.0  0.0   0.0  0.0   \n",
       "\n",
       "       year  ...  linguin  linguini  jimmi  player  juliana  pool tabl  \\\n",
       "0  0.000000  ...      0.0       0.0    0.0     0.0      0.0        0.0   \n",
       "1  0.000000  ...      0.0       0.0    0.0     0.0      0.0        0.0   \n",
       "2  0.160339  ...      0.0       0.0    0.0     0.0      0.0        0.0   \n",
       "3  0.000000  ...      0.0       0.0    0.0     0.0      0.0        0.0   \n",
       "4  0.000000  ...      0.0       0.0    0.0     0.0      0.0        0.0   \n",
       "\n",
       "      castl  falafel  paella  white castl  \n",
       "0  0.000000      0.0     0.0          0.0  \n",
       "1  0.000000      0.0     0.0          0.0  \n",
       "2  0.000000      0.0     0.0          0.0  \n",
       "3  0.149255      0.0     0.0          0.0  \n",
       "4  0.000000      0.0     0.0          0.0  \n",
       "\n",
       "[5 rows x 1761 columns]"
      ]
     },
     "execution_count": 2,
     "metadata": {},
     "output_type": "execute_result"
    }
   ],
   "source": [
    "yelp_data.head()"
   ]
  },
  {
   "cell_type": "code",
   "execution_count": 3,
   "id": "f56c58f5",
   "metadata": {},
   "outputs": [],
   "source": [
    "from sklearn.metrics import make_scorer, accuracy_score, f1_score\n",
    "from sklearn.model_selection import train_test_split\n",
    "from pycm import *\n",
    "\n",
    "X = yelp_data.iloc[0:,4:]\n",
    "y = yelp_data.Sentiment\n",
    "indices = yelp_data.index\n",
    "\n",
    "X_train, X_test, y_train, y_test, itrain, itest = train_test_split(X,y,indices,train_size=0.8,random_state=7)"
   ]
  },
  {
   "cell_type": "markdown",
   "id": "9a08e9fa",
   "metadata": {},
   "source": [
    "# Logistic Regression"
   ]
  },
  {
   "cell_type": "code",
   "execution_count": 4,
   "id": "457ad6bf",
   "metadata": {},
   "outputs": [],
   "source": [
    "from sklearn.linear_model import LogisticRegression\n",
    "from sklearn.model_selection import GridSearchCV\n",
    "from sklearn.pipeline import Pipeline\n",
    "from sklearn.preprocessing import StandardScaler\n",
    "import pickle"
   ]
  },
  {
   "cell_type": "code",
   "execution_count": 5,
   "id": "97c95955",
   "metadata": {},
   "outputs": [
    {
     "data": {
      "text/plain": [
       "{'lr__C': 0.1}"
      ]
     },
     "execution_count": 5,
     "metadata": {},
     "output_type": "execute_result"
    }
   ],
   "source": [
    "steps = [('scaler', StandardScaler()), ('lr', LogisticRegression(solver = 'lbfgs'))] \n",
    "pipeline = Pipeline(steps)\n",
    "parameters = {'lr__C':[0.01, 0.1, 1, 10, 100]}\n",
    "\n",
    "clf = GridSearchCV(pipeline, parameters, cv = 10, scoring=\"accuracy\") \n",
    "clf.fit(X_train, y_train)\n",
    "clf.best_params_"
   ]
  },
  {
   "cell_type": "code",
   "execution_count": 6,
   "id": "8815a3ea",
   "metadata": {},
   "outputs": [],
   "source": [
    "filename = 'lr.sav'\n",
    "pickle.dump(clf, open(filename, 'wb'))"
   ]
  },
  {
   "cell_type": "code",
   "execution_count": 33,
   "id": "dd9f055f",
   "metadata": {},
   "outputs": [],
   "source": [
    "clf=pickle.load(open('lr.sav', 'rb'))"
   ]
  },
  {
   "cell_type": "code",
   "execution_count": 34,
   "id": "e00e75d0",
   "metadata": {},
   "outputs": [],
   "source": [
    "results = clf.predict(X_test)"
   ]
  },
  {
   "cell_type": "code",
   "execution_count": 35,
   "id": "f6aee3c5",
   "metadata": {},
   "outputs": [
    {
     "name": "stdout",
     "output_type": "stream",
     "text": [
      "Accuracy on test data:  0.6951553930530164\n",
      "F1 Score (macro):  0.6933462169665948\n",
      "F1 Score (micro):  0.6951553930530164\n",
      "F1 Score (weighted):  0.6957884475947633\n"
     ]
    }
   ],
   "source": [
    "test_accuracy = clf.score(X_test, y_test)\n",
    "f1_accuracy = f1_score(y_test,results,average='macro')\n",
    "f1_accuracym = f1_score(y_test,results,average='micro')\n",
    "f1_accuracyw = f1_score(y_test,results,average='weighted')\n",
    "print(\"Accuracy on test data: \" ,test_accuracy)\n",
    "print('F1 Score (macro): ', f1_accuracy)\n",
    "print('F1 Score (micro): ', f1_accuracym)\n",
    "print('F1 Score (weighted): ', f1_accuracyw)"
   ]
  },
  {
   "cell_type": "code",
   "execution_count": 36,
   "id": "80c0ee7b",
   "metadata": {},
   "outputs": [],
   "source": [
    "lr_acc = test_accuracy\n",
    "lr_f1 = f1_accuracy\n",
    "lr_f1m = f1_accuracym\n",
    "lr_f1w = f1_accuracyw"
   ]
  },
  {
   "cell_type": "markdown",
   "id": "c81b97be",
   "metadata": {},
   "source": [
    "# Random Forest"
   ]
  },
  {
   "cell_type": "code",
   "execution_count": 9,
   "id": "2839ee83",
   "metadata": {},
   "outputs": [],
   "source": [
    "from sklearn.ensemble import RandomForestClassifier"
   ]
  },
  {
   "cell_type": "code",
   "execution_count": 10,
   "id": "bcfb4626",
   "metadata": {},
   "outputs": [
    {
     "data": {
      "text/plain": [
       "{'rf__max_features': 'sqrt', 'rf__n_estimators': 50}"
      ]
     },
     "execution_count": 10,
     "metadata": {},
     "output_type": "execute_result"
    }
   ],
   "source": [
    "steps = [('scaler', StandardScaler()), ('rf', RandomForestClassifier())] \n",
    "pipeline = Pipeline(steps) \n",
    "parameters = {'rf__n_estimators':[10 , 20, 30, 40, 50], 'rf__max_features':['auto','sqrt']}\n",
    "clf = GridSearchCV(pipeline, parameters, cv = 10, scoring=\"accuracy\") \n",
    "clf.fit(X_train, y_train)\n",
    "\n",
    "clf.best_params_"
   ]
  },
  {
   "cell_type": "code",
   "execution_count": 11,
   "id": "f8234425",
   "metadata": {},
   "outputs": [],
   "source": [
    "filename = 'rf.sav'\n",
    "pickle.dump(clf, open(filename, 'wb'))"
   ]
  },
  {
   "cell_type": "code",
   "execution_count": 18,
   "id": "41fcf73c",
   "metadata": {},
   "outputs": [],
   "source": [
    "clf=pickle.load(open('rf.sav', 'rb'))"
   ]
  },
  {
   "cell_type": "code",
   "execution_count": 19,
   "id": "c26026bd",
   "metadata": {},
   "outputs": [],
   "source": [
    "results = clf.predict(X_test)"
   ]
  },
  {
   "cell_type": "code",
   "execution_count": 20,
   "id": "ea776116",
   "metadata": {},
   "outputs": [
    {
     "name": "stdout",
     "output_type": "stream",
     "text": [
      "Accuracy on test data:  0.6590493601462523\n",
      "F1 Score (macro):  0.6584350649084096\n",
      "F1 Score (micro):  0.6590493601462523\n",
      "F1 Score (weighted):  0.6583161189038397\n"
     ]
    }
   ],
   "source": [
    "test_accuracy = clf.score(X_test, y_test)\n",
    "f1_accuracy = f1_score(y_test,results,average='macro')\n",
    "f1_accuracym = f1_score(y_test,results,average='micro')\n",
    "f1_accuracyw = f1_score(y_test,results,average='weighted')\n",
    "print(\"Accuracy on test data: \" ,test_accuracy)\n",
    "print('F1 Score (macro): ', f1_accuracy)\n",
    "print('F1 Score (micro): ', f1_accuracym)\n",
    "print('F1 Score (weighted): ', f1_accuracyw)"
   ]
  },
  {
   "cell_type": "code",
   "execution_count": 21,
   "id": "987bdcb9",
   "metadata": {},
   "outputs": [],
   "source": [
    "rf_acc = test_accuracy\n",
    "rf_f1 = f1_accuracy\n",
    "rf_f1m = f1_accuracym\n",
    "rf_f1w = f1_accuracyw"
   ]
  },
  {
   "cell_type": "markdown",
   "id": "0ccefd8f",
   "metadata": {},
   "source": [
    "# Support Vector Classification (SVC)"
   ]
  },
  {
   "cell_type": "code",
   "execution_count": 22,
   "id": "b59cbbfc",
   "metadata": {},
   "outputs": [
    {
     "data": {
      "text/plain": [
       "{'svc__C': 0.01}"
      ]
     },
     "execution_count": 22,
     "metadata": {},
     "output_type": "execute_result"
    }
   ],
   "source": [
    "from sklearn.svm import SVC\n",
    "\n",
    "steps = [('scaler', StandardScaler()), ('svc', SVC(probability=False,kernel='linear',gamma='auto'))] \n",
    "pipeline = Pipeline(steps) \n",
    "parameters = {'svc__C':[0.01, 0.1, 1]}\n",
    "\n",
    "clf = GridSearchCV(pipeline, parameters, cv = 3, scoring=\"accuracy\") \n",
    "clf.fit(X_train, y_train)\n",
    "\n",
    "clf.best_params_"
   ]
  },
  {
   "cell_type": "code",
   "execution_count": 23,
   "id": "d783e6f0",
   "metadata": {},
   "outputs": [],
   "source": [
    "filename = 'svc.sav'\n",
    "pickle.dump(clf, open(filename, 'wb'))"
   ]
  },
  {
   "cell_type": "code",
   "execution_count": 24,
   "id": "bc3e65d2",
   "metadata": {},
   "outputs": [],
   "source": [
    "results = clf.predict(X_test)"
   ]
  },
  {
   "cell_type": "code",
   "execution_count": 25,
   "id": "ee90edbb",
   "metadata": {},
   "outputs": [
    {
     "name": "stdout",
     "output_type": "stream",
     "text": [
      "Accuracy on test data:  0.7010968921389397\n",
      "F1 Score (macro):  0.7017782289569849\n",
      "F1 Score (micro):  0.7010968921389397\n",
      "F1 Score (weighted):  0.701150485468546\n"
     ]
    }
   ],
   "source": [
    "test_accuracy = clf.score(X_test, y_test)\n",
    "f1_accuracy = f1_score(y_test,results,average='macro')\n",
    "f1_accuracym = f1_score(y_test,results,average='micro')\n",
    "f1_accuracyw = f1_score(y_test,results,average='weighted')\n",
    "print(\"Accuracy on test data: \" ,test_accuracy)\n",
    "print('F1 Score (macro): ', f1_accuracy)\n",
    "print('F1 Score (micro): ', f1_accuracym)\n",
    "print('F1 Score (weighted): ', f1_accuracyw)"
   ]
  },
  {
   "cell_type": "code",
   "execution_count": 26,
   "id": "71b861f0",
   "metadata": {},
   "outputs": [],
   "source": [
    "svc_acc = test_accuracy\n",
    "svc_f1 = f1_accuracy\n",
    "svc_f1m = f1_accuracym\n",
    "svc_f1w = f1_accuracyw"
   ]
  },
  {
   "cell_type": "markdown",
   "id": "7471114d",
   "metadata": {},
   "source": [
    "# Gradient Boosted Classifier"
   ]
  },
  {
   "cell_type": "code",
   "execution_count": 27,
   "id": "bba19e0d",
   "metadata": {},
   "outputs": [
    {
     "data": {
      "text/plain": [
       "{'gbc__learning_rate': 0.2, 'gbc__n_estimators': 500}"
      ]
     },
     "execution_count": 27,
     "metadata": {},
     "output_type": "execute_result"
    }
   ],
   "source": [
    "from sklearn.ensemble import GradientBoostingClassifier\n",
    "\n",
    "steps = [('scaler', StandardScaler()), ('gbc', GradientBoostingClassifier(max_features='sqrt'))] \n",
    "pipeline = Pipeline(steps) \n",
    "parameters = {'gbc__n_estimators':[10, 50, 100, 200, 500], 'gbc__learning_rate': [0.05, 0.1, 0.15, 0.2, 0.25]}\n",
    "\n",
    "clf = GridSearchCV(pipeline, parameters, cv = 10, scoring=\"accuracy\") \n",
    "clf.fit(X_train, y_train)\n",
    "\n",
    "clf.best_params_"
   ]
  },
  {
   "cell_type": "code",
   "execution_count": 28,
   "id": "4ccc9e03",
   "metadata": {},
   "outputs": [],
   "source": [
    "filename = 'gbc.sav'\n",
    "pickle.dump(clf, open(filename, 'wb'))"
   ]
  },
  {
   "cell_type": "code",
   "execution_count": 29,
   "id": "4d0085f6",
   "metadata": {},
   "outputs": [],
   "source": [
    "results = clf.predict(X_test)"
   ]
  },
  {
   "cell_type": "code",
   "execution_count": 30,
   "id": "c6e0d1a9",
   "metadata": {},
   "outputs": [
    {
     "name": "stdout",
     "output_type": "stream",
     "text": [
      "Accuracy on test data:  0.7212065813528337\n",
      "F1 Score (macro):  0.7239217920748415\n",
      "F1 Score (micro):  0.7212065813528337\n",
      "F1 Score (weighted):  0.7219657542040139\n"
     ]
    }
   ],
   "source": [
    "test_accuracy = clf.score(X_test, y_test)\n",
    "probs = clf.predict_proba(X_test)[:, 1]\n",
    "f1_accuracy = f1_score(y_test,results,average='macro')\n",
    "f1_accuracym = f1_score(y_test,results,average='micro')\n",
    "f1_accuracyw = f1_score(y_test,results,average='weighted')\n",
    "print(\"Accuracy on test data: \" ,test_accuracy)\n",
    "print('F1 Score (macro): ', f1_accuracy)\n",
    "print('F1 Score (micro): ', f1_accuracym)\n",
    "print('F1 Score (weighted): ', f1_accuracyw)"
   ]
  },
  {
   "cell_type": "code",
   "execution_count": 31,
   "id": "23e4af60",
   "metadata": {},
   "outputs": [],
   "source": [
    "gbc_acc = test_accuracy\n",
    "gbc_f1 = f1_accuracy\n",
    "gbc_f1m = f1_accuracym\n",
    "gbc_f1w = f1_accuracyw"
   ]
  },
  {
   "cell_type": "markdown",
   "id": "56f7f3c2",
   "metadata": {},
   "source": [
    "# Results"
   ]
  },
  {
   "cell_type": "code",
   "execution_count": 37,
   "id": "6d582719",
   "metadata": {},
   "outputs": [
    {
     "data": {
      "text/html": [
       "<div>\n",
       "<style scoped>\n",
       "    .dataframe tbody tr th:only-of-type {\n",
       "        vertical-align: middle;\n",
       "    }\n",
       "\n",
       "    .dataframe tbody tr th {\n",
       "        vertical-align: top;\n",
       "    }\n",
       "\n",
       "    .dataframe thead th {\n",
       "        text-align: right;\n",
       "    }\n",
       "</style>\n",
       "<table border=\"1\" class=\"dataframe\">\n",
       "  <thead>\n",
       "    <tr style=\"text-align: right;\">\n",
       "      <th></th>\n",
       "      <th>Model</th>\n",
       "      <th>Accuracy</th>\n",
       "      <th>F1_Macro</th>\n",
       "      <th>F1_Micro</th>\n",
       "      <th>F1_Weighted</th>\n",
       "    </tr>\n",
       "  </thead>\n",
       "  <tbody>\n",
       "    <tr>\n",
       "      <th>0</th>\n",
       "      <td>Logistic Regression</td>\n",
       "      <td>0.695</td>\n",
       "      <td>0.693</td>\n",
       "      <td>0.695</td>\n",
       "      <td>0.696</td>\n",
       "    </tr>\n",
       "    <tr>\n",
       "      <th>1</th>\n",
       "      <td>Random Forest</td>\n",
       "      <td>0.659</td>\n",
       "      <td>0.658</td>\n",
       "      <td>0.659</td>\n",
       "      <td>0.658</td>\n",
       "    </tr>\n",
       "    <tr>\n",
       "      <th>2</th>\n",
       "      <td>SVC</td>\n",
       "      <td>0.701</td>\n",
       "      <td>0.702</td>\n",
       "      <td>0.701</td>\n",
       "      <td>0.701</td>\n",
       "    </tr>\n",
       "    <tr>\n",
       "      <th>3</th>\n",
       "      <td>GBC</td>\n",
       "      <td>0.721</td>\n",
       "      <td>0.724</td>\n",
       "      <td>0.721</td>\n",
       "      <td>0.722</td>\n",
       "    </tr>\n",
       "  </tbody>\n",
       "</table>\n",
       "</div>"
      ],
      "text/plain": [
       "                 Model  Accuracy  F1_Macro  F1_Micro  F1_Weighted\n",
       "0  Logistic Regression     0.695     0.693     0.695        0.696\n",
       "1        Random Forest     0.659     0.658     0.659        0.658\n",
       "2                  SVC     0.701     0.702     0.701        0.701\n",
       "3                  GBC     0.721     0.724     0.721        0.722"
      ]
     },
     "execution_count": 37,
     "metadata": {},
     "output_type": "execute_result"
    }
   ],
   "source": [
    "result1 = pd.DataFrame({'Model':['Logistic Regression', 'Random Forest', 'SVC', 'GBC'],\n",
    "             'Accuracy':[lr_acc, rf_acc, svc_acc, gbc_acc],\n",
    "             'F1_Macro':[lr_f1, rf_f1, svc_f1, gbc_f1],\n",
    "             'F1_Micro':[lr_f1m, rf_f1m, svc_f1m, gbc_f1m],\n",
    "             'F1_Weighted':[lr_f1w, rf_f1w, svc_f1w, gbc_f1w]})\n",
    "result1 = result1.round(3)\n",
    "result1"
   ]
  },
  {
   "cell_type": "code",
   "execution_count": null,
   "id": "4250545d",
   "metadata": {},
   "outputs": [],
   "source": []
  }
 ],
 "metadata": {
  "kernelspec": {
   "display_name": "Python 3 (ipykernel)",
   "language": "python",
   "name": "python3"
  },
  "language_info": {
   "codemirror_mode": {
    "name": "ipython",
    "version": 3
   },
   "file_extension": ".py",
   "mimetype": "text/x-python",
   "name": "python",
   "nbconvert_exporter": "python",
   "pygments_lexer": "ipython3",
   "version": "3.9.7"
  }
 },
 "nbformat": 4,
 "nbformat_minor": 5
}
