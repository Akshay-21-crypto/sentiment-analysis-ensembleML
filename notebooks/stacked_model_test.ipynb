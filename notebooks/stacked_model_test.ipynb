{
 "cells": [
  {
   "cell_type": "code",
   "execution_count": 21,
   "id": "f3fee6fd",
   "metadata": {},
   "outputs": [],
   "source": [
    "import pandas as pd\n",
    "import numpy as np\n",
    "import matplotlib.pyplot as plt\n",
    "import warnings\n",
    "warnings.filterwarnings('ignore')\n",
    "\n",
    "yelp_data = pd.read_csv('yelp_data_sentiment.csv')"
   ]
  },
  {
   "cell_type": "code",
   "execution_count": 22,
   "id": "b62e0d38",
   "metadata": {},
   "outputs": [],
   "source": [
    "level0=list()"
   ]
  },
  {
   "cell_type": "code",
   "execution_count": 23,
   "id": "8801685a",
   "metadata": {},
   "outputs": [],
   "source": [
    "import pickle"
   ]
  },
  {
   "cell_type": "code",
   "execution_count": 24,
   "id": "03b2b5f8",
   "metadata": {},
   "outputs": [],
   "source": [
    "from sklearn.svm import SVC"
   ]
  },
  {
   "cell_type": "code",
   "execution_count": 25,
   "id": "5e4ef7ea",
   "metadata": {},
   "outputs": [],
   "source": [
    "clf=pickle.load(open('svc.sav', 'rb'))"
   ]
  },
  {
   "cell_type": "code",
   "execution_count": 26,
   "id": "f842acba",
   "metadata": {},
   "outputs": [],
   "source": [
    "level0.append(('svc',clf))"
   ]
  },
  {
   "cell_type": "code",
   "execution_count": 27,
   "id": "cac643af",
   "metadata": {},
   "outputs": [],
   "source": [
    "from sklearn.ensemble import GradientBoostingClassifier"
   ]
  },
  {
   "cell_type": "code",
   "execution_count": 28,
   "id": "ed709617",
   "metadata": {},
   "outputs": [],
   "source": [
    "clf=pickle.load(open('gbc.sav', 'rb'))"
   ]
  },
  {
   "cell_type": "code",
   "execution_count": 29,
   "id": "17907861",
   "metadata": {},
   "outputs": [],
   "source": [
    "level0.append(('gbc',clf))"
   ]
  },
  {
   "cell_type": "code",
   "execution_count": 30,
   "id": "d10f072a",
   "metadata": {},
   "outputs": [
    {
     "data": {
      "text/plain": [
       "[('svc',\n",
       "  GridSearchCV(cv=3,\n",
       "               estimator=Pipeline(steps=[('scaler', StandardScaler()),\n",
       "                                         ('svc',\n",
       "                                          SVC(gamma='auto', kernel='linear'))]),\n",
       "               param_grid={'svc__C': [0.01, 0.1, 1]}, scoring='accuracy')),\n",
       " ('gbc',\n",
       "  GridSearchCV(cv=10,\n",
       "               estimator=Pipeline(steps=[('scaler', StandardScaler()),\n",
       "                                         ('gbc',\n",
       "                                          GradientBoostingClassifier(max_features='sqrt'))]),\n",
       "               param_grid={'gbc__learning_rate': [0.05, 0.1, 0.15, 0.2, 0.25],\n",
       "                           'gbc__n_estimators': [10, 50, 100, 200, 500]},\n",
       "               scoring='accuracy'))]"
      ]
     },
     "execution_count": 30,
     "metadata": {},
     "output_type": "execute_result"
    }
   ],
   "source": [
    "level0"
   ]
  },
  {
   "cell_type": "code",
   "execution_count": 31,
   "id": "252ed431",
   "metadata": {},
   "outputs": [],
   "source": [
    "from sklearn.linear_model import LogisticRegression\n",
    "level1=LogisticRegression()"
   ]
  },
  {
   "cell_type": "code",
   "execution_count": 32,
   "id": "90fe717e",
   "metadata": {},
   "outputs": [],
   "source": [
    "from sklearn.ensemble import StackingClassifier"
   ]
  },
  {
   "cell_type": "code",
   "execution_count": 33,
   "id": "db2c4192",
   "metadata": {},
   "outputs": [],
   "source": [
    "X = yelp_data.iloc[0:,4:]\n",
    "y = yelp_data.Sentiment"
   ]
  },
  {
   "cell_type": "code",
   "execution_count": 34,
   "id": "b80c0d5f",
   "metadata": {},
   "outputs": [],
   "source": [
    "from sklearn.model_selection import train_test_split"
   ]
  },
  {
   "cell_type": "code",
   "execution_count": 35,
   "id": "69915619",
   "metadata": {},
   "outputs": [],
   "source": [
    "X_train, X_test, y_train, y_test = train_test_split(X,y,train_size=0.8,random_state=7)"
   ]
  },
  {
   "cell_type": "code",
   "execution_count": 36,
   "id": "50902c90",
   "metadata": {},
   "outputs": [],
   "source": [
    "model = StackingClassifier(estimators=level0, final_estimator=level1, cv=2)"
   ]
  },
  {
   "cell_type": "code",
   "execution_count": 37,
   "id": "a84fcd11",
   "metadata": {},
   "outputs": [
    {
     "data": {
      "text/plain": [
       "StackingClassifier(cv=2,\n",
       "                   estimators=[('svc',\n",
       "                                GridSearchCV(cv=3,\n",
       "                                             estimator=Pipeline(steps=[('scaler',\n",
       "                                                                        StandardScaler()),\n",
       "                                                                       ('svc',\n",
       "                                                                        SVC(gamma='auto',\n",
       "                                                                            kernel='linear'))]),\n",
       "                                             param_grid={'svc__C': [0.01, 0.1,\n",
       "                                                                    1]},\n",
       "                                             scoring='accuracy')),\n",
       "                               ('gbc',\n",
       "                                GridSearchCV(cv=10,\n",
       "                                             estimator=Pipeline(steps=[('scaler',\n",
       "                                                                        StandardScaler()),\n",
       "                                                                       ('gbc',\n",
       "                                                                        GradientBoostingClassifier(max_features='sqrt'))]),\n",
       "                                             param_grid={'gbc__learning_rate': [0.05,\n",
       "                                                                                0.1,\n",
       "                                                                                0.15,\n",
       "                                                                                0.2,\n",
       "                                                                                0.25],\n",
       "                                                         'gbc__n_estimators': [10,\n",
       "                                                                               50,\n",
       "                                                                               100,\n",
       "                                                                               200,\n",
       "                                                                               500]},\n",
       "                                             scoring='accuracy'))],\n",
       "                   final_estimator=LogisticRegression())"
      ]
     },
     "execution_count": 37,
     "metadata": {},
     "output_type": "execute_result"
    }
   ],
   "source": [
    "model.fit(X_train,y_train)"
   ]
  },
  {
   "cell_type": "code",
   "execution_count": 38,
   "id": "9f84ba0d",
   "metadata": {},
   "outputs": [
    {
     "name": "stdout",
     "output_type": "stream",
     "text": [
      "0.7723948811700183\n"
     ]
    }
   ],
   "source": [
    "test_accuracy = model.score(X_test, y_test)\n",
    "print(test_accuracy)"
   ]
  },
  {
   "cell_type": "code",
   "execution_count": 39,
   "id": "51836421",
   "metadata": {},
   "outputs": [],
   "source": [
    "filename = 'stacked_model_test.sav'\n",
    "pickle.dump(model, open(filename, 'wb'))"
   ]
  },
  {
   "cell_type": "code",
   "execution_count": null,
   "id": "0eafcea5",
   "metadata": {},
   "outputs": [],
   "source": []
  }
 ],
 "metadata": {
  "kernelspec": {
   "display_name": "Python 3 (ipykernel)",
   "language": "python",
   "name": "python3"
  },
  "language_info": {
   "codemirror_mode": {
    "name": "ipython",
    "version": 3
   },
   "file_extension": ".py",
   "mimetype": "text/x-python",
   "name": "python",
   "nbconvert_exporter": "python",
   "pygments_lexer": "ipython3",
   "version": "3.9.7"
  }
 },
 "nbformat": 4,
 "nbformat_minor": 5
}
