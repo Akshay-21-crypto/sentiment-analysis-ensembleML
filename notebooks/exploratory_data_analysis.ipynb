{
 "cells": [
  {
   "cell_type": "markdown",
   "id": "20737e58",
   "metadata": {},
   "source": [
    "# Sentiment Analysis of Yelp Reviews - Exploratory Data Analysis"
   ]
  },
  {
   "cell_type": "markdown",
   "id": "71c35c7e",
   "metadata": {},
   "source": [
    "In this notebook, we will be analysing data and see if we can find a trend or pattern that might be helpful when designing our model."
   ]
  },
  {
   "cell_type": "code",
   "execution_count": 1,
   "id": "65d1bced",
   "metadata": {},
   "outputs": [],
   "source": [
    "import pandas as pd\n",
    "import numpy as np\n",
    "import matplotlib.pyplot as plt\n",
    "\n",
    "#Loading Data\n",
    "\n",
    "#yelp_data = pd.read_csv('C:/Users/gogik/Major Project/sentiment-analysis/data/yelp_reviews_dataset.csv')\n",
    "yelp_data_unpacked = pd.read_csv('C:/Users/gogik/Major Project/sentiment-analysis/data/yelp_data_unpacked.csv')\n",
    "\n",
    "import warnings\n",
    "warnings.filterwarnings('ignore')"
   ]
  },
  {
   "cell_type": "code",
   "execution_count": 3,
   "id": "af67f348",
   "metadata": {},
   "outputs": [
    {
     "data": {
      "text/html": [
       "<div>\n",
       "<style scoped>\n",
       "    .dataframe tbody tr th:only-of-type {\n",
       "        vertical-align: middle;\n",
       "    }\n",
       "\n",
       "    .dataframe tbody tr th {\n",
       "        vertical-align: top;\n",
       "    }\n",
       "\n",
       "    .dataframe thead th {\n",
       "        text-align: right;\n",
       "    }\n",
       "</style>\n",
       "<table border=\"1\" class=\"dataframe\">\n",
       "  <thead>\n",
       "    <tr style=\"text-align: right;\">\n",
       "      <th></th>\n",
       "      <th>Alias</th>\n",
       "      <th>Name</th>\n",
       "      <th>Rating</th>\n",
       "      <th>Price</th>\n",
       "      <th>City</th>\n",
       "      <th>Zip_code</th>\n",
       "      <th>Address</th>\n",
       "      <th>Review</th>\n",
       "    </tr>\n",
       "  </thead>\n",
       "  <tbody>\n",
       "    <tr>\n",
       "      <th>0</th>\n",
       "      <td>morris-park-bake-shop-bronx</td>\n",
       "      <td>Morris Park Bake Shop</td>\n",
       "      <td>4.5</td>\n",
       "      <td>$$</td>\n",
       "      <td>Bronx</td>\n",
       "      <td>10462</td>\n",
       "      <td>1007 Morris Park Ave</td>\n",
       "      <td>'The chocolate cups are amazing! Have been eat...</td>\n",
       "    </tr>\n",
       "    <tr>\n",
       "      <th>1</th>\n",
       "      <td>morris-park-bake-shop-bronx</td>\n",
       "      <td>Morris Park Bake Shop</td>\n",
       "      <td>4.5</td>\n",
       "      <td>$$</td>\n",
       "      <td>Bronx</td>\n",
       "      <td>10462</td>\n",
       "      <td>1007 Morris Park Ave</td>\n",
       "      <td>'Morris Park Bake Shop has become my go to spo...</td>\n",
       "    </tr>\n",
       "    <tr>\n",
       "      <th>2</th>\n",
       "      <td>morris-park-bake-shop-bronx</td>\n",
       "      <td>Morris Park Bake Shop</td>\n",
       "      <td>4.5</td>\n",
       "      <td>$$</td>\n",
       "      <td>Bronx</td>\n",
       "      <td>10462</td>\n",
       "      <td>1007 Morris Park Ave</td>\n",
       "      <td>'I thought the cookies and biscotti were prett...</td>\n",
       "    </tr>\n",
       "    <tr>\n",
       "      <th>3</th>\n",
       "      <td>morris-park-bake-shop-bronx</td>\n",
       "      <td>Morris Park Bake Shop</td>\n",
       "      <td>4.5</td>\n",
       "      <td>$$</td>\n",
       "      <td>Bronx</td>\n",
       "      <td>10462</td>\n",
       "      <td>1007 Morris Park Ave</td>\n",
       "      <td>'Guys.... so Im a big time biscotti connoisseu...</td>\n",
       "    </tr>\n",
       "    <tr>\n",
       "      <th>4</th>\n",
       "      <td>morris-park-bake-shop-bronx</td>\n",
       "      <td>Morris Park Bake Shop</td>\n",
       "      <td>4.5</td>\n",
       "      <td>$$</td>\n",
       "      <td>Bronx</td>\n",
       "      <td>10462</td>\n",
       "      <td>1007 Morris Park Ave</td>\n",
       "      <td>'I had a craving for a special type of cake wi...</td>\n",
       "    </tr>\n",
       "    <tr>\n",
       "      <th>5</th>\n",
       "      <td>morris-park-bake-shop-bronx</td>\n",
       "      <td>Morris Park Bake Shop</td>\n",
       "      <td>4.5</td>\n",
       "      <td>$$</td>\n",
       "      <td>Bronx</td>\n",
       "      <td>10462</td>\n",
       "      <td>1007 Morris Park Ave</td>\n",
       "      <td>'Went here yesterday for the Black Forest Cake...</td>\n",
       "    </tr>\n",
       "    <tr>\n",
       "      <th>6</th>\n",
       "      <td>morris-park-bake-shop-bronx</td>\n",
       "      <td>Morris Park Bake Shop</td>\n",
       "      <td>4.5</td>\n",
       "      <td>$$</td>\n",
       "      <td>Bronx</td>\n",
       "      <td>10462</td>\n",
       "      <td>1007 Morris Park Ave</td>\n",
       "      <td>'This hidden gem has the best cannoli in NYC. ...</td>\n",
       "    </tr>\n",
       "    <tr>\n",
       "      <th>7</th>\n",
       "      <td>morris-park-bake-shop-bronx</td>\n",
       "      <td>Morris Park Bake Shop</td>\n",
       "      <td>4.5</td>\n",
       "      <td>$$</td>\n",
       "      <td>Bronx</td>\n",
       "      <td>10462</td>\n",
       "      <td>1007 Morris Park Ave</td>\n",
       "      <td>'Very clean and a great assortment of pastries...</td>\n",
       "    </tr>\n",
       "  </tbody>\n",
       "</table>\n",
       "</div>"
      ],
      "text/plain": [
       "                         Alias                   Name  Rating Price   City  \\\n",
       "0  morris-park-bake-shop-bronx  Morris Park Bake Shop     4.5    $$  Bronx   \n",
       "1  morris-park-bake-shop-bronx  Morris Park Bake Shop     4.5    $$  Bronx   \n",
       "2  morris-park-bake-shop-bronx  Morris Park Bake Shop     4.5    $$  Bronx   \n",
       "3  morris-park-bake-shop-bronx  Morris Park Bake Shop     4.5    $$  Bronx   \n",
       "4  morris-park-bake-shop-bronx  Morris Park Bake Shop     4.5    $$  Bronx   \n",
       "5  morris-park-bake-shop-bronx  Morris Park Bake Shop     4.5    $$  Bronx   \n",
       "6  morris-park-bake-shop-bronx  Morris Park Bake Shop     4.5    $$  Bronx   \n",
       "7  morris-park-bake-shop-bronx  Morris Park Bake Shop     4.5    $$  Bronx   \n",
       "\n",
       "   Zip_code               Address  \\\n",
       "0     10462  1007 Morris Park Ave   \n",
       "1     10462  1007 Morris Park Ave   \n",
       "2     10462  1007 Morris Park Ave   \n",
       "3     10462  1007 Morris Park Ave   \n",
       "4     10462  1007 Morris Park Ave   \n",
       "5     10462  1007 Morris Park Ave   \n",
       "6     10462  1007 Morris Park Ave   \n",
       "7     10462  1007 Morris Park Ave   \n",
       "\n",
       "                                              Review  \n",
       "0  'The chocolate cups are amazing! Have been eat...  \n",
       "1  'Morris Park Bake Shop has become my go to spo...  \n",
       "2  'I thought the cookies and biscotti were prett...  \n",
       "3  'Guys.... so Im a big time biscotti connoisseu...  \n",
       "4  'I had a craving for a special type of cake wi...  \n",
       "5  'Went here yesterday for the Black Forest Cake...  \n",
       "6  'This hidden gem has the best cannoli in NYC. ...  \n",
       "7  'Very clean and a great assortment of pastries...  "
      ]
     },
     "execution_count": 3,
     "metadata": {},
     "output_type": "execute_result"
    }
   ],
   "source": [
    "yelp_data_unpacked.head(8)"
   ]
  },
  {
   "cell_type": "code",
   "execution_count": 4,
   "id": "3ec9bf56",
   "metadata": {},
   "outputs": [],
   "source": [
    "yelp_data_unpacked['Review_Word_Count'] = yelp_data_unpacked['Review'].apply(lambda x: len(str(x).split()))"
   ]
  },
  {
   "cell_type": "code",
   "execution_count": 5,
   "id": "9823b929",
   "metadata": {},
   "outputs": [
    {
     "data": {
      "text/plain": [
       "Text(0, 0.5, 'Number of Words')"
      ]
     },
     "execution_count": 5,
     "metadata": {},
     "output_type": "execute_result"
    },
    {
     "data": {
      "image/png": "[encoded data removed]",
      "text/plain": [
       "<Figure size 432x288 with 1 Axes>"
      ]
     },
     "metadata": {
      "needs_background": "light"
     },
     "output_type": "display_data"
    }
   ],
   "source": [
    "yelp_data_unpacked['Review_Word_Count'].plot()\n",
    "plt.title('Word Counts for Each Yelp Review')\n",
    "plt.xlabel('Review Number')\n",
    "plt.ylabel('Number of Words')"
   ]
  },
  {
   "cell_type": "code",
   "execution_count": 6,
   "id": "6ca10f79",
   "metadata": {},
   "outputs": [
    {
     "data": {
      "text/html": [
       "<div>\n",
       "<style scoped>\n",
       "    .dataframe tbody tr th:only-of-type {\n",
       "        vertical-align: middle;\n",
       "    }\n",
       "\n",
       "    .dataframe tbody tr th {\n",
       "        vertical-align: top;\n",
       "    }\n",
       "\n",
       "    .dataframe thead th {\n",
       "        text-align: right;\n",
       "    }\n",
       "</style>\n",
       "<table border=\"1\" class=\"dataframe\">\n",
       "  <thead>\n",
       "    <tr style=\"text-align: right;\">\n",
       "      <th></th>\n",
       "      <th>Alias</th>\n",
       "      <th>Name</th>\n",
       "      <th>Rating</th>\n",
       "      <th>Price</th>\n",
       "      <th>City</th>\n",
       "      <th>Zip_code</th>\n",
       "      <th>Address</th>\n",
       "      <th>Review</th>\n",
       "      <th>Review_Word_Count</th>\n",
       "    </tr>\n",
       "  </thead>\n",
       "  <tbody>\n",
       "    <tr>\n",
       "      <th>184</th>\n",
       "      <td>riviera-caterers-brooklyn</td>\n",
       "      <td>Riviera Caterers</td>\n",
       "      <td>4.5</td>\n",
       "      <td>NaN</td>\n",
       "      <td>Brooklyn</td>\n",
       "      <td>11224</td>\n",
       "      <td>2780 Stillwell Ave</td>\n",
       "      <td>'Got a question about Riviera Caterers? Ask th...</td>\n",
       "      <td>7791</td>\n",
       "    </tr>\n",
       "  </tbody>\n",
       "</table>\n",
       "</div>"
      ],
      "text/plain": [
       "                         Alias              Name  Rating Price      City  \\\n",
       "184  riviera-caterers-brooklyn  Riviera Caterers     4.5   NaN  Brooklyn   \n",
       "\n",
       "     Zip_code             Address  \\\n",
       "184     11224  2780 Stillwell Ave   \n",
       "\n",
       "                                                Review  Review_Word_Count  \n",
       "184  'Got a question about Riviera Caterers? Ask th...               7791  "
      ]
     },
     "execution_count": 6,
     "metadata": {},
     "output_type": "execute_result"
    }
   ],
   "source": [
    "yelp_data_unpacked[yelp_data_unpacked['Review_Word_Count'] > 1000]"
   ]
  },
  {
   "cell_type": "code",
   "execution_count": 8,
   "id": "1930b6b4",
   "metadata": {},
   "outputs": [
    {
     "data": {
      "text/plain": [
       "'\\'Got a question about Riviera Caterers? Ask the Yelp community!, I had my wedding here a month ago and I would give Riviera10 stars if I could. It was such a joy and ease to work with Adam, Tommy, and their staff. A true diamond in the rough of Coney Island and the best value out there for Brooklyn weddings! Extremely recommend this place.First, the space has been recently remodeled and it is truly gorgeous and modern. You dont have to worry about bringing in much of your own decorations - our florals, ceremony, table settings, and photos looked stunning against the Rivieras backdrop.The service of the Riviera staff was also impeccable. Up to the wedding, they were responsive and helpful and kind. During our wedding, the staff took extreme care of us and our guests, and over-checked on us every step of the way. I felt very taken care of. At the end of the night, waiters had trays of water waiting for everyone as they headed home from the party. They even put champagne in the bathroom! Our guests were dazzled.The food is also exceptional and aplenty. The cocktail hour had so many food stations our guests thought we wouldnt be serving dinner! Then dinner was another 3 courses of amazing food. Everyone commented on how delicious it was. The bar is top shelf and wine bottles sat on each table.Again - the value here is out of this world! Highly recommend and thank you so much for a day to remember., Couldnt Have Wished for Better!Tommy and his team were absolutely incredible! They are the most patient, understanding, and reliable team that we have ever met. They are truly professionals in their industry. From the food, lighting, and table arrangements to the ceremony progression, reception outline, and meal-music timing, the coordination was flawless. I, as the bride, didnt have to worry about a thing on my wedding day. Everything was perfect because of the Riviera team. Many of our guests stated that it was the best wedding they had every attended :) Couldnt have wished for a more memorable night. We would recommend the Riviera team in a heartbeat!, Im attending a wedding here right now, and I have to say that Im beyond impressed with this venue. The food quality and customer service are extraordinary. This place is truly a hidden jewel. Id highly recommend it for weddings, proms, or any large event., Tommy is awesome! My fiancé and I met with him in hopes of having our wedding here. Out of the 15 venues we visited, Tommy was the most down to earth and relatable person we met with. The venue is gorgeous and the menu is jam packed with loads of options. The backyard is so stunning and will make for great photo backgrounds. We ended up going with a venue outside of Brooklyn but we will definitely keep in contact in hopes to use this beautiful venue at a later date., I recently had my wedding at the Riviera and it was just wonderful! To begin with, Tommy was a joy to work with - super easy going, friendly, relatable, available at any time and knowledgeable. He instantly made my husband and I feel comfortable the first time we met him. One of the main reasons we picked the Riviera for our wedding was because of Tommy and how comfortable he made us feel during that first meeting. The renovations (which we couldnt see at first) turned out just amazing - truly breathtaking.The process of creating our menu was seamless, as well, as Tommy was more than willing to give recommendations and even created a unique pasta for us and our guests (which was delicious, by the way!). He was also more than willing to accommodate our request for two signature cocktails - which our guests raved about (especially the peppermint espresso martini)!The food was wonderful, really delicious and our guests have told us it was one of the best weddings theyve been to! Ardit (hope I am spelling that right) was a true pleasure to work with the day of the event, as well. I wore a large ball gown and Ardit was always on hand to help me get through doorways, get up and down stairs and just move around in general. He and his team checked in with my husband and I numerous times throughout the night and we were very pleased with him!My only suggestion would just be to circulate the passed canapés a bit more during the cocktail hour. Some of our guests that were in one cocktail hour room missed out on some items. Other than that, the wedding was absolutely perfect and Tommy and Ardit did a terrific job. I would highly recommend any prospective brides and grooms work with the Riviera, Tommy and Ardit. They are amazing (and the place is just gorgeous!)., Magical!!!!!!!!! No need to say more!!!My cousin got married on 6/23/18Wow Riviera! You really did an amazing job!From the food to the smallest details! Like a bottle of champagne in the bathrooms so the guest dont go thirsty.lol The food outstanding! I had the rack of lamb! This was the best lamb i ever had! And the potato purée?!!!!!! Mouth watering! Great job Riviera! The Staff was outstanding!!!!! The drinks were served all night! And the shots kept on coming to our table without asking! Which was a great!! My husband and I were apart of the bridal party! Me the maid of honor! We felt welcomed and catered to.!!! We had a blast! Thank you Riviera, Had our wedding at the Riviera earlier this year. Cannot put into words how amazing the day was. Service, food, drinks, everything ...unbelievable. Tommy &amp; his staff were spot on &amp; by our side the entire time. A huge thank You to the Riviera for making that day one we will never forget. Guests still talk about our wedding months after., Really impressed with their events, everything is so detailed and their designs are super creative, not to mention the food is delicious. They cater to each client and give everyone extra attention. Highly recommend Riviera for all your event needs!, On 10/11/19 The Riviera hosted our wedding. Tommy, the manager, pretty much held our hands the entire time. He was in contact at all times and kept me abreast of anything and everything that went on at the venue before our big day. He was a real breath of fresh air to have around. Tommy is an amazing asset to the Riviera. He continuously made us feel excited rather than anxious and put all of our worries at ease.When we booked the Riviera last year we had no idea how much more beautiful it was going to be after renovations were done. We were so thrilled to see how much more beautiful our wedding would be with the finishing touches. We had a Great Gatsby themed wedding and the new look just fit in perfectly. Ardit was our right-hand man on our wedding day. He was amazing and went above and beyond to make us feel comfortable and well taken care of. The entire staff of the Riviera were welcoming with open arms. We definitely felt the love and created a relationship with everyone who helped out. Yall are really amazing.Our guests could not stop talking about the food. The highlight of the night wasnt the Bride &amp; Groom, it was the food LOL! Every item on the menu was more delicious than the next. Honestly, you guys rock! You made our night not only magical... but perfect! We love you guys and thank you from the bottom of our hearts.Love,Mr. &amp; Mrs. Rafael &amp; Erika Rivera, I had a multigenerational, multicultural wedding at the Riviera, and it was EPIC. In addition to the outstanding customer service, great responsiveness, tastiness and aesthetic beauty of the venue... Tommy and Ardit are very patient &amp; down-to-earth people. Their team was able to calmly respond to all my familys multiple concerns, and the excitement of the wedding day. They were able to accommodate for a specific family recipe and some more non-conventional cultural traditions.I only wish there were more folks like you to plan all of lifes events. Thank you, gracias, orbrigada, merci!!, Got a question about Riviera Caterers? Ask the Yelp community!, So I just had my wedding here at Riviera. I can honestly say, this was something else. I am so used to going to other venues for big events, but Riviera tops them all. First off, Tommy, the face that runs the place, really kicked ass! Everything he promised, he delivered. His staff was unbelievable. Literally, unbelievable. Go to any other place, the staff wont treat you like this. Tommy was in control and everyone worker was killing it. And honestly, the workers were all sporting a smile and THAT was contagious to my guests. Everyone of my guests were having a fantastic time. The food was insane. The timing of when the food was delivered was spot on. The portions were huge. The taste was like no other. The cocktail hour was so ideal and chill. My guests were getting full during the cocktail hour to where I had to remind them that their table had so much more food to come. The venue if self was so beautiful and clean. You can literally eat off the floor in the mens bathroom. And that says a lot!Both rooms were very elegant and memorizing. The outside was surreal. My wife and I couldnt be thankful enough. Tommy and the amazing staff at Riviera, thank you so much. PS. I am booking you guys for my future kids bar/bat mitzvah, I would give this place a 10 if I could!!!! We got married here on April 19th and Im so glad I picked this venue!!! Adam and Tommy are the best! They plan everything to perfection and make sure that your special day happens without any drama and to your liking. The food was spectacular, the staff incredibly helpful and wonderful! I can honestly say that they did everything to make my special day amazing!!! Thanks guys!!!, Had our wedding at Riviera just after the ballroom was newly renovated, which turned our better than we could have imagined. Tommy kept us constantly updated with progress of the renovation keeping us at ease. The day of could not have gone better! Our guests thought the venue was beautiful and the staff was very accommodating, not to mention the food was fantastic. A couple things really showed how the staff went way above and beyond. First, the restaurant delivering kosher food for a couple of our guests forgot to deliver the meals, so Tommy had a staff member pick it up them self, in the middle of a snow storm. Second, we wanted to take a photo outside while it was snowing; next thing we know theres 3 or so waiters shoveling snow for us so the brides dress didnt get ruined.Overall we felt very taken care of and would highly recommend!, I got married in this gorgeous gorgeous venue on October 6, 2019. Wow. Just wow. I have a million things to say but Im also speechless at the same time. This is a super long review and yet I feel like theres so so much more I can add. I mean the venue is beyond gorgeous all on its own. It is fully renovated top to bottom. Everything is classic, elegant, and timeless. There are gorgeous high ceilings with chandeliers everywhere, a beautiful garden with a waterfall (available for a ceremony). But what is really unbelievable about this place is the service. I have never ever experienced such insanely amazing service. So over a year ago, we started out at a different venue which got sold... and thank god! Riviera took care of us in more ways than I can count. We came in about two months before the big day with a million questions, two crazy Jewish moms, and worried looks in our eyes. Tommy and Adam worked with us through any slightest concern. It was very important for our parents that we have a lot of food (Russian style) - they accommodated us without an issue. We had enormous amounts of delicious food, amazing drinks and open bar. They allowed us to really customize the menu to what really fit our families and our style. Not only that but riviera made themselves available to us 24/7. We were able to text the manager Tommy with any concerns or questions. We fell so in love with the venue that we spent at least 3 of our weekdays there . They made the space available for us to practice our first dance in which was super helpful. We were also lucky enough to have Ardit as our captain. As a bride, you worry about a million things on your wedding day. Ardit made sure I had nothing to worry about the entire night. He checked on my family and I about 100 times throughout the night (And not in an annoying way). Ardit literally made sure he walked down the steps behind me towards the aisle so that I wouldnt trip over my really poofy dress. He did so super-crouched down so that nobody would see. He made sure our glasses were always full and that there was always food on our sweethearts table. Your wedding day is also a day youre literally running around talking to everyone and taking a million pictures and listening to everyones beautiful speeches. Theres no time for you to sit down and eat. Ardit made absolutely certain that he dragged us away from the crowd so that we could get a bite in. We also had to be in the bridal suite during cocktail hour so that our guests wouldnt see us before the ceremony. Ardit and Kas made sure that every single thing that was out during our cocktail hour was brought to us in the bridal suite. I mean everything literally everything was so well thought out. I know I mentioned a select few people but they were all truly fantastic. This group of people literally went above and beyond. They waited on us hand and foot. Our guests cannot stop talking about how amazing the service was and how amazingly they were treated. Coordination of everything was literally made possible because of Riviera and their team. We were taken care of from the second we walked in the door, from the moment we signed the contract, and all through the day of. There wasnt a moment where riviera wasnt there for us. I am so unbelievably grateful that I was able to have my wedding in a venue as amazing as Riviera., Just had my wedding at Riviera last week and it was spectacular. I returned from my honeymoon and had dozens of messages saying how great the event was. Cocktail hour was full of fun food from what I heard (took too many pictures to join and didnt have time to eat what they brought me).The reception room was beautiful and my florist (@ntroncone) went above and beyond. The service was top notch , my fiancé and I had a drink ready for us before we even finished the one we had in our hands.My fiancé is Greek and his family is very hard to please. Needless to say he hasnt gotten any complaints :) Thank you Riviera xoxo . Pictures coming soon, We chose Riviera Caterers to have our wedding. After driving around all of NJ and long island and going to see 11+ venues, we decided on riviera. It literally had EVERYTHING on my checklist and it did not disappoint! The venue is gorgeous, brand new and renovated, close to home and only focus on one wedding at a time. They know how to do \"russian style\" and do not disappoint. Thomas Peter Chiasson Jr. and his team were beyond accommodating and really were no BS when we went to book, they gave us everything we wanted. I could not say better things about the service. From finding my dad a razor on the day of the even, to fixing my Loubs (still mad about it), to making sure every detail I texted him about for many weeks was executed, it was amazing! I felt comfortable telling him what I wanted and was so happy he was so receptive. I heard the food was DELICIOUS and the service was even better!, Working at a corporate (Formula E race) event this past weekend and the Riviera Catered this event. From what I understood from race management, this company was hired last minute when the original caterer (luckily) did not work out .. after being in the floral industry for many many years and seeing all kinds of catering, I have to say that this company was super impressive!! .. the service, Wait staff, presentation, and food was OUTSTANDING! The event management and guests that I chatted with felt the same way! The owner, Andrew was great as was Wilfred who was in charge of the waiters and back of house staff!! Bravo, Riviera!!! Great job all around!, My husband and I couldnt be more thrilled with how our wedding (June 1st) at the Riviera turned out. From the amazing management staff (thank you, Tommy) to the amazing waitstaff, our experience was one of a kind. Everyone was very attentive, very professional, and our guests cannot stop raving about the service. The food was also exceptional and the dessert hour was a highlight. Jokingly, my husband and his groomsmen asked for chicken fingers and bbq sauce and it was right there for them a mere ten minutes later. The ceremony space out in the garden was beautiful and made for a very special experience. Communicating with the venue throughout the planning process was so incredibly easy and all my questions were answered quickly. As many of you know, weddings can be quite stressful to plan and manage and Im so glad we chose this venue because my experience with them was stress free. Would recommend this venue and staff without hesitation., If you are planning to marry and you need a place to have a beautiful reception you must look into this place. The place is beautiful, the food is delicious, and the service is beyond extraordinaire. The staff are very friendly and accommodating with every need. I would recommend this place to anybody thats looking for a beautiful place to make your dream wedding come true. I highly recommend this place, I am very glad that this was our location for our event., Just had my wedding at Riviera. The service is outstanding, the waiters came up to me before i could even look for them. Food was incredible and plentiful, all our guests really enjoyed it. Tommy was great, made everything flow so easy. We were always in the loop of whats going on. The place itself is beautiful.... and the open bar was great. Highly recommend to anyone!!, Got a question about Riviera Caterers? Ask the Yelp community!, Shout Out to @tommychiassonjr for making sure our wedding experience @rivieracaterers went as smoothly as possible. You were super attentive to all of our familys many needs and requests. Never said \"No\", and Always said \"No Problem\". You helped us work out and find solutions to problems we never knew could have existed. These few clips show only a sliver of your attention to detail, and you definitely worked magic to ensure everything ran without a hitch. Tommy, I dont know why we dont have more people like you in this world; We cant imagine working with anyone else through this intricate (&amp; not so intimate-we had a way huge party) affair. I will forever treasure the little moments throughout the day, when you paused pulling every string just to remind me to \"breathe, relax, smile &amp; enjoy the very moment\". I wish I had more words to thank you with, but I think Ive actually run out. Your wife is the luckiest woman in the world to have such a great man in her life. #rivieracaterers #rivierabrooklyn #coneyislandwedding #brooklynwedding #brooklyn #nyc #bestmaitred #amazingstaff #weddingbliss #weddingday #wedding #justmarried #cutthecake #jackandsally #auntbutchiesdesserts #oreoandcreamcake #cannolicream #loveitorlevitt #lewuvitt2018 #060318, We had our wedding here a few weeks ago and couldnt be happier with how it went. The food was incredible, the staff was amazing, and Tommy was a joy to work with. He thought of every little thing and was available anytime to answer the craziest questions. We keep hearing about how we had the wedding of the century and we know it was only possible because of Riviera., TIME FOR AN UPDATE!I was sad to see the Riviera the day after Sandy hit, the massive thousand pound flower pots were strewn about, and Stillwell Ave became a beach all the way up to the Riviera. It was a shocking site to see. I really though that was the end of the business, figuring they would be unable to persevere and rebuild. What I didnt know is they got right to it, and have reopened! Theyve rennovated everything damaged and then some. Everything single thing that was out of date was also updated and modernized. I used to think what they lacked in atmosphere they make up in excellent food, quality, and service. But now its a win win. Its classy inside and out and the experience here for brides, grooms, guests and anyone who steps foot in here is second to none. They will make you feel special here, unlike many many of the catering factories out there. This is a one party operation at a time. You will definitely feel the attention, service and quality form the great staff and it will all be outstanding., I had my sweet sixteen here and everything was perfect. Food was amazing and the service was flawless, thanks to Tommy and Ardit. The venue is beautiful, I took all my pictures in the garden and they came out gorgeous. I would definitely recommend anyone to inquire with the Riviera for any upcoming events., I was at a wedding at The Riviera on Friday for my cousins wedding. It was absolutely spectacular. As one of the bridesmaids, we got their with the bride and groom early. However, we got there about an hour earlier than the bride had originally told the Pat (one of the owners). Was this a problem? Absolutely not! They accommodated without hesitation and made us extremely comfortable. We were immediately offered beverages and food and the bride was even given a bride survival kit. They thought of everything. Pat and Zach stopped by several times to ask if we needed anything and Anthony (the maître d) made sure everything was running smoothly. We took pictures in the garden, which is absolutely stunning. People travel all over to get their pictures. Meanwhile, the garden looks like something out of a fairy tale. The waterfall in the background makes it perfect.The cocktail hour had so much food! I personally really enjoyed the peking duck crepe and the pasta. There was also a special seafood station but I cant comment on that since I dont eat seafood. I did see many people keep going back to the seafood station though. There was also another room during the cocktail hour with an open bar and there were waiters walking around with hors doeuvres. My favorite was this brie cheese and honey. Delicious! I cant forget to mention that upon walking into the catering hall, there was an aerialist on those silk ropes upside down pouring champagne to guests! Definitely not something you see every day.After cocktail hour everyone was moved outside for the ceremony. The weather was lovely. Not too hot and not cold. Having the ceremony outside added that extra something to it. To call it beautiful would be an understatement.The reception was held inside with the garden still open for whoever wanted to go outside. There were so many entree choices! Usually you get only 3 choices, but there were 12. I am so picky when it comes to food but found myself wanting to try multiple things. There are different options available when planning a wedding. Since my cousin is of Russian background, they opted for the banquet style table as opposed to the traditional course meals. To have both available really accommodates those who want to go the more formal route of a catering hall but still want to keep some familiar traditions in place. The food continued to be delicious. I ordered the rack of lamb which was cooked perfectly. The Venetian hour was something else. I thought the entree choices were a lot but there were even more desserts. My personal favorite was the banana flambe but Im a huge fan of banana. There was a waffle station and other really cool desserts. It was a whole show. The music was really good and they also had a saxophonist which I really enjoyed. I definitely danced with him a few times. The dance floor was a good size and I never really felt cramped. Overall, I dont think the wedding could have been any better -From all the different services offered and the high quality of the services. Im so thrilled that my cousin had her wedding there. It will definitely be a day she never forgets., I was going down memory lane and I decided to see if the Riviera was still in existence. To my surprise it is still there. I was married at the Riviera36 years ago and my memories of my wedding there are so vivid and happy. The service was impeccable and the food was fabulous! People still talk about my wedding till this day. Sadly my husband passed away 11 years ago but we always spoke about our great wedding and our ride in the Rolls Royce. If you are thinking of planning a wedding there you will not be disappointed. Maybe my daughter can be married there! I absolutely love this place and my wedding pictures have it all for me to remember. Thank you Zach!!, My best friend had her wedding here a few years ago and i remembered it was a nice location and she had a nice wedding here. So after i got engaged I decided to go take a look at Riviera for my Wedding in October. My husband and I waited for about 40 minutes before someone talked to us. We showed ourselves around the venue. When the banquet manager got to us he seemed nice at first but after two minutes he flat out told my husband and I that we couldnt afford that venue. We didnt even get to talk numbers with him yet. I was taken aback by that comment and turned off from that venue afterwards and it left a sour taste in my mouth. Also, the banquet manager proceeded to bash the other venues around and still at the same time try to make it seem like he wanted our business. After i left i was still in shock at the attitude of the banquet manager. Its a shame they have someone like that working for them as it seems like a nice small venue. But with attitudes like that driving business away., Went here for my graduate luncheon today. The garden area was beautiful and a nice place to take photos. We ordered our food and waited for 2 hours before it came, mostly cold. It took them a half hour for them to get to all the tables so by the time I was eating they were already giving out dessert. The food was okay. Overall the only thing I enjoyed was how beautiful the place is., This is a long overdue thank you to Tommy, Adam and the staff at the Riviera. We held our sons bar mitzvah party there last fall. The food was plentiful and very good. We had a superb cocktail hour in the downstairs bar area. Bartenders were generous with top shelf offerings. There was great energy, which set the tone for the entire evening. We had a separate kids party area with a DJ and kid friendly food in the mezzanine space, while our adult guests enjoyed the large top-floor party space. There was a diverse menu with something for everyone. Our guests had a great time. All our concerns and designs for the party were taken care of. Most importantly, the staff was extremely attentive and accommodating during the event. My band performed for part of the party, and Tommy had his staff carry the band equipment in and out of the hall!! There was valet parking included. Pre-party planning and communications were smooth and friendly, with phone calls and emails returned promptly. Cant ask for more at the reasonable price we paid for our event. Tommy &amp; Adam, sorry for taking so long to write this. Thanks again., Have always heard about this place and drove by it hundreds of times, and never thought it would be as great as it turned out to be when I actually ended up going here for a friends weddingThe outdoor patio for the wedding was beautiful, and really made me feel like I was not in BrooklynThe other really nice part is the first hall when you enter through the front. Felt very grand and I was definitely not expecting thatThe main dining/dancing had plenty of room for dancing, eating and hanging outWhile the food was not bad all around, the dessert was in a whole other league.I am not a huge fan of dessert but holy shit did they have amazing dessert, everything from cheesecakes, to Belgium waffles a la mode, to Cannolis in every flavor.The dessert alone makes up for anything this place may lack.The staff was very friendly as well, and very professionalOverall, seems like a great spot to have a wedding, or throw any large event, Got a question about Riviera Caterers? Ask the Yelp community!, Just had my wedding here last weekend. Everyone complimented on the venue and the food. I chose this because it is close to home and it turned out to be the best choice I made in the wedding planning process. Everything went smoothly that night due to help from the sales manager. He was always on top of everything and made sure we had everything that we needed. Waiters and bartenders were very friendly, always asking us if we needed something. Never had any issues during the planning process with the sales manager. He gave us so many good suggestions from experience. The only little issue we had was that the cocktail hour room seemed too small for our party of 140 people because it was packed with people and hard to maneuver with plates of food. Maybe some food stations should be move to the bar area. Lastly, the garden was beautiful for our ceremony. We thought about adding extra floral designs but glad we decided against it, because the garden itself already had enough greenery and flowers. Overall very positive experience., I attended a night wedding last night 7/25/2014 . ..ALL The food was delicious.... The wait staff was 100% professional. .. And one guy named Scott stood out!!!!!! 110%  I would definitely recommend this place to family and friends., Dont let the somewhat dingy Coney Island location fool you, The Riviera is a solid hall! Been here for multiple weddings over the years and have enough of a sample to know that this place is quality.Decent sized rooms with only one wedding at a time, the food is very good and there is an outdoor and indoor garden for cocktail hours and a nice garden for the wedding party to take pictures.The same people have run the Riviera through the years and the Cavitolo family supplies the food and white glove service (which has impressed me each time ive been here)! Prices to book an event are also reasonable, and minor renovations have taken place inside the main hall in the past 3 years so it looks a little bit better. Overall the Riviera is an excellent choice for your big day!, If there were a 0, that would have been picked. The place itself is nice and small, however, John the person who spoke to us was sickening. Not too long ago, me and my fiance came in to look at the place. We were welcomed and showed around until we started looking at the menu and talking prices and the amount of people we would have. He was very nasty to deal with. He had a phone call and spoke about us under his breathe while he was sitting next to us. Stating that he has a couple here that will not purchase anything and he is losing a deal. WTF???? He was talking \"code\" with whomever was on the phone.. LMAO... Now, he thought I was too dumb to notice. I looked at my fiance and laughed about what i was hearing. He can dream for a call back from us. Costumer LOST! and Im sure plenty of others will read this and go elsewhere.  Our money will go some place else that is worthy our time.  ;) We already booked another catering place which is AWSOME!!!!!!, Place is beautiful, service is good.Music is good, but way too loud. Saxophonist improvising on the floor works hard but ruins the dancing music and tempo. Sadly, substandard food cheapens the entire experience.   A few menu items like baked salmon are OK but it mostly has appeal of cafeteria food., Ive been to numerous events at the Riviera and have always found the service and the food to be extraordinary. @Jason - you must eat at some top shelf cafeterias!, I went here for a wedding and was thoroughly impressed. The waitstaff was really attentive and each table was assigned their own bartender. I thought that was pretty cool + Ian was awesome! Before the dinner was served, the staff did somewhat of a show with fire and knives. It was a pretty cool extra touch. Much appreciated. Riviera also offers valet parking- so its just one less thing for attendees to think about. I cant comment on prices or customer service from the perspective of someone renting out the place since I was just a guest, but Id definitely consider having an event here in the future., Came here for a wedding, the cocktail hour was great, servers were friendly and outside area where the ceremony took place was absolutely breath taking! Only drawback was that the main party room was a bit dated and dinner itself was ok. Had a great time and would recommend to anyone looking for a venue in the area., Ive been to weddings at the Riviera and it has always been the white glove service and excellent food that has impressed me. With one event at a time, they make you feel special. Im excited that the Riviera just started offering the place for corporate events. Fillmore will be the first major event there and their big screen and flat screens combined with great lighting and audio are sure to make this our best event ever., Never been here before until a friends wedding this week and wow am I pleasantly surprised that Brooklyn has such a beautiful location. The wedding was outside by the waterfall in the open garden on a great sunny day and the reception was inside. Cocktail hour was ideal; plenty of seats for a large party to sit and chat and have delicious snacks and champagne. Sure, a wedding is only as good as the people attending so it was freaking awesome but the actual location was amazing. Dessert was phenomenal, staff kept the drinks coming! No complaints! Love you #YEGOR13 =D, Got a question about Riviera Caterers? Ask the Yelp community!, Riviera Caterers did a fantastic job with my wedding! The hall itself is absolutely stunning, and the garden where we had our ceremony is so lovely, I did not even need to add any extra decorations to it. Between the flowers in bloom and the waterfall it is simply stunning. My guests have not stopped raving about the delicious food and how there was so much of it. And the alcohol was all top shelf and the bartenders kept it coming. Our maitred was PHENOMENAL. I forgot my garter and he sent staff out to buy me a makeshift one. He tended to us all night making sure my hubby and I were happy and every time my hubby turned around he was waiting there with his next beer and shot. Riviera truly knows how to take care of you, everything went smoothly, and my guests all had an amazing time. Thank you so much Riviera, you made my dream wedding a reality!P.S. Really glad to see you let go of that sales guy, he was also very unpleasant with me and my hubby but we did not want to let one jerk prevent us from using the venue we loved, Im glad we stuck with our gut and chose Riviera., I just had my wedding at the Riviera on 6/6/14. It was beyond anything I could ever imagine. Everyone was so observant and helpful. I first met with Andrew, He made me FALL IN LOVE with the place. You can tell he really cares about it and wants to make sure everyone has an amazing time. Pat handled our final details and helped put everything together. The food was amazing. The filet mignon, you didnt even need to use your knife! The whole experience was a fairy tale. My guests were raving about how much fun they had. If I had to do it all again, I wouldnt change a thing. Riviera only caters one wedding at a time, so the attention is on you, and only you. Thank you so much, everyone at the Riviera, for making my wedding a dream. The staff was amazing, the bartenders were the BEST, the venue is updated and beautiful . I cant imagine anything going better than my day., I was married at the Riviera last year and this place stood out on many levels. First, they only cater to one wedding at a time so you know you will be the center of attention. The food is fabulously delicious and you can even try more than one entree after you finish your first one. The Cocktail Hour is unbelievable with such a wide selection of food youll be absolutely full before you even make it to the entree! The Viennese hour brings out such a fantastic display of desserts that will make your mouth water! The hall itself is beautiful and already includes all the table linens and chair covers, which many other halls do not include. The Bridal suite is large and has its own bathroom and includes a one way mirror so you can see downstairs to your Cocktail hour but they can not see you. Awesome way to observe what is going on while still enjoying your privacy. The garden area is gorgeous and we were able to take so many pretty pictures in the back. The wait staff is excellent and do an incredible job with their service. They really make you feel like like you are the King and Queen on your special day. Competitively priced and were a dream to work with. Would highly reccomment this venue to all!, I got married at the Riviera over 4 years ago and family/friends still talk about my wedding! My wedding planning experience with the Riviera was stress-less! The Riviera was the first &amp; only hall I went to when I was looking for a venue. Every detail on my wedding day that the Riviera provided was impeccable! The food was absolutely delicious &amp; plentiful! The service was top notch and the venue itself was absolutely perfect! My best friend just got married at the Riviera because of how impressed she was with them for my wedding 4 years ago! Her wedding was this past spring and once again, the Riviera gave 1000% and more! Best place to have a wedding; hands down!, I had my reception at the Riveria in 2007, and it was beautiful. The banquet manager at the time was very nice, therefore I decided to return to celebrate my parents birthday party. But, I was truly surprised when I was greeted by one of the nastiest people I have ever met. My sister and I went to view the establishment and to inquire about the price, and the damn man didnt only come out and say we cant afford it, he suggested that we go to the worst neighbor in order to find the price that we were looking for. Now finally I decided to tell him that I had my wedding here and that I referred three other people that used the venue. I no longer support this business, nor will I recommend anyone to use this establishment. He showed discrimination towards me, and that in this day and age is not cool. NEVER AGAIN........., I had been to a wedding at the Riviera many years ago and I felt the place was tacky and gaudy but I recently went to another wedding there, hoping things had improved. This second wedding was definitely better than the first but I wouldnt recommend it to any of my friends looking for a wedding location.One complaint, they ran out of forks during the wine hour, which can happen but when the server brought them out, he started handing them to people by holding the tines. That has to go in my mouth, please hold the other end. The bathroom is all the way downstairs in the back of the bar, so if you have to use it during the reception, you have a long way to go. Also, during the reception, the lights were low in the bar so it was strange to have to walk through an empty, half-dark room in order to get to the bathroom. The food was decent but nothing spectacular. Im not sure if it was the DJs fault or the halls but table we were at was right next to a speaker and I left with a splitting headache after having music blaring right next to me all night. They really need a better setup for speakers vs. tables., We had our wedding at the Riviera on September 6 and can not thank Pat and the entire staff enough. Thanks to all of their help and support our wedding day was absolutely SPECTACULAR!!! The food was amazing, the service was impeccable, and the venue overall had such a beautiful look and energy to it. The planning process leading up to our wedding day was a horrible experience, everything that could have gone wrong had gone wrong and in a frenzy we had to find a new venue only 10 DAYS before our wedding. Amazingly The Riviera had our date available!!! The owners of the Riviera saved the most important day of our lives from what could have been a devastating experience. Pat made sure that everything in those few days leading up to our wedding went flawlessly, she had amazing recommendations and was such a calming force. We dont know what we would have done without her. Anthony, the maitre d, was so helpful throughout the night as well. He made sure everything was timed perfectly, that all of our is were dotted and ts were crossed. He made sure we actually enjoyed our wedding night. (Something not many couples can say!!) All of our guests felt so welcomed and they all can not stop talking about what an amazing wedding we had at the Riviera.AGAIN THANK YOU SO MUCH PAT, ZACK, AND ANTHONY!!!!! YOU MADE OUR WEDDING A NIGHT WE AND ALL OF OUR GUESTS WILL NEVER EVER FORGET!!!!!, pleasantly surprised,food was standard catering hall food,service was very good, very attentive, until the end where they kind of fell apart in service,but overall a very good experience.be wary of valet parking, young kids were grubbing smokes from patrons, and trying to flirt with every attractive female, very unprofessional valet service,, I just got married at the riviera two months ago and I have to say everything was phenomenal! I have not one thing to complain about. From the second I arrived my guests and I were treated like royalty. The cocktail hour was awesome they have everything and the food is delicioussss. The main course was amazing and you can have as many as your mouth desires. The hall is beautiful and so well kept. The staff was absolutely amazing. The outdoor garden is stunning! And the drinks are great too. The Viennese hour has a great display and so much and you can take home some too. This place is the best I have ever seen or been to and I would highly recommend it for any bride planning her special day, I just had my wedding at Riviera at all I can say is \"WOW!\" I had pretty high expectation of what to expect because of what Ive heard and what the management was promising and all those expectations were met and exceeded on every front. I cant say what the cocktail hour was like because I was tied up taking pictures but Ive since heard from guests that there were more than enough of everything. The ceremony on their garden was perfect on all fronts and people came up to me and told me \"I can see why you choose this place\". During the reception the staff was extremely attentive to us and our guest. One of my guests told \"As soon as my wifes wine glass got even close to empty the waiter was right there ready to fill it back up\". The staff is nothing but professional and worked with us every step of the way to have our wedding be exactly what we wanted. If youre looking for a wedding venue in the NY area, you can stop when you get to Riviera because Im convinced it does not get any better., Got a question about Riviera Caterers? Ask the Yelp community!, I had my wedding at Riviera and loved every single thing about this place., Got a question about Riviera Caterers? Ask the Yelp community!\\''"
      ]
     },
     "execution_count": 8,
     "metadata": {},
     "output_type": "execute_result"
    }
   ],
   "source": [
    "long_review = yelp_data_unpacked[yelp_data_unpacked['Review_Word_Count'] > 1000]['Review'][184]\n",
    "long_review"
   ]
  },
  {
   "cell_type": "markdown",
   "id": "7e7a22ac",
   "metadata": {},
   "source": [
    "# Removing Stop Words"
   ]
  },
  {
   "cell_type": "code",
   "execution_count": 12,
   "id": "44e5ea90",
   "metadata": {},
   "outputs": [],
   "source": [
    "from nltk.corpus import stopwords\n",
    "from nltk.tokenize import word_tokenize"
   ]
  },
  {
   "cell_type": "code",
   "execution_count": 13,
   "id": "0772f572",
   "metadata": {},
   "outputs": [],
   "source": [
    "yelp_data_unpacked['Lowercase'] = yelp_data_unpacked['Review'].apply(lambda x: ' '.join(word.lower() for word in str(x).split()))"
   ]
  },
  {
   "cell_type": "code",
   "execution_count": 14,
   "id": "ce27ec69",
   "metadata": {},
   "outputs": [],
   "source": [
    "yelp_data_unpacked['Cleaned'] = yelp_data_unpacked['Lowercase'].str.replace('[^\\w\\s]', '')"
   ]
  },
  {
   "cell_type": "code",
   "execution_count": 15,
   "id": "7d19e8d6",
   "metadata": {},
   "outputs": [],
   "source": [
    "Reviews_noStopWords = []\n",
    "\n",
    "for i in range(len(yelp_data_unpacked)):\n",
    "    \n",
    "    review = str(yelp_data_unpacked['Cleaned'][i])\n",
    "    review = review.lower()\n",
    "    \n",
    "    stop_words = set(stopwords.words('english'))\n",
    "    word_tokens = word_tokenize(review)\n",
    "    filtered_sentence = []\n",
    " \n",
    "    for w in word_tokens:\n",
    "        if w not in stop_words:\n",
    "            filtered_sentence.append(w)\n",
    "    \n",
    "    Reviews_noStopWords.append(filtered_sentence)"
   ]
  },
  {
   "cell_type": "code",
   "execution_count": 16,
   "id": "0c4ccbb5",
   "metadata": {},
   "outputs": [],
   "source": [
    "yelp_data_unpacked['No_Stop_Words:Tokens'] = Reviews_noStopWords"
   ]
  },
  {
   "cell_type": "code",
   "execution_count": 17,
   "id": "950f5ddb",
   "metadata": {},
   "outputs": [],
   "source": [
    "yelp_data_unpacked['No_Stop_Words:Sentence'] = Reviews_noStopWords\n",
    "for i in range(len(yelp_data_unpacked)): \n",
    "    text_list = yelp_data_unpacked['No_Stop_Words:Tokens'][i]\n",
    "    blank = ''\n",
    "    for word in text_list:\n",
    "        blank = blank+' '+word\n",
    "    yelp_data_unpacked['No_Stop_Words:Sentence'][i] = blank"
   ]
  },
  {
   "cell_type": "code",
   "execution_count": 18,
   "id": "4dfc137a",
   "metadata": {},
   "outputs": [
    {
     "data": {
      "text/plain": [
       "0         chocolate cups amazing eating years always ta...\n",
       "1         morris park bake shop become go spot atmosphe...\n",
       "2         thought cookies biscotti pretty good definite...\n",
       "3         guys im big time biscotti connoisseur always ...\n",
       "4         craving special type cake ice cream layer reg...\n",
       "                               ...                        \n",
       "11061     food drinks amazing went catch friend havent ...\n",
       "11062     frequently come restaurant almost three times...\n",
       "11063     went back yesterday omg lobsters back ordered...\n",
       "11064     johnnys little cleaner type fast food indoor ...\n",
       "11065     tonys definitely one favorite spots go quick ...\n",
       "Name: No_Stop_Words:Sentence, Length: 11066, dtype: object"
      ]
     },
     "execution_count": 18,
     "metadata": {},
     "output_type": "execute_result"
    }
   ],
   "source": [
    "yelp_data_unpacked['No_Stop_Words:Sentence']"
   ]
  },
  {
   "cell_type": "code",
   "execution_count": 19,
   "id": "f33012f1",
   "metadata": {},
   "outputs": [],
   "source": [
    "Stop_Word_Count = []\n",
    "for i in range(len(yelp_data_unpacked)):\n",
    "    review = str(yelp_data_unpacked['Review'][i]).lower()\n",
    "    count = 0\n",
    "    for word in review.split():\n",
    "        if word in stop_words:\n",
    "            count += 1\n",
    "    Stop_Word_Count.append(count)\n",
    "\n",
    "yelp_data_unpacked['Stop_Word_Count'] = Stop_Word_Count"
   ]
  },
  {
   "cell_type": "code",
   "execution_count": 44,
   "id": "34798091",
   "metadata": {},
   "outputs": [],
   "source": [
    "full = yelp_data_unpacked['Review_Word_Count']\n",
    "partial = yelp_data_unpacked['Stop_Word_Count']\n",
    "\n",
    "yelp_data_unpacked['Stop_Words_%'] = partial/full"
   ]
  },
  {
   "cell_type": "markdown",
   "id": "e39f4265",
   "metadata": {},
   "source": [
    "# Stemming and Lemmatization"
   ]
  },
  {
   "cell_type": "code",
   "execution_count": 20,
   "id": "da112599",
   "metadata": {},
   "outputs": [],
   "source": [
    "import textblob\n",
    "from textblob import Word"
   ]
  },
  {
   "cell_type": "code",
   "execution_count": 21,
   "id": "ea61c9a1",
   "metadata": {},
   "outputs": [
    {
     "name": "stderr",
     "output_type": "stream",
     "text": [
      "[nltk_data] Downloading package wordnet to\n",
      "[nltk_data]     C:\\Users\\gogik\\AppData\\Roaming\\nltk_data...\n",
      "[nltk_data]   Package wordnet is already up-to-date!\n"
     ]
    },
    {
     "data": {
      "text/plain": [
       "True"
      ]
     },
     "execution_count": 21,
     "metadata": {},
     "output_type": "execute_result"
    }
   ],
   "source": [
    "import nltk\n",
    "nltk.download('wordnet')"
   ]
  },
  {
   "cell_type": "code",
   "execution_count": 22,
   "id": "a5a08687",
   "metadata": {},
   "outputs": [],
   "source": [
    "yelp_data_unpacked['Lemmatized'] = yelp_data_unpacked['No_Stop_Words:Sentence'].apply(lambda x: ' '.join(Word(word).lemmatize() for word in x.split()))"
   ]
  },
  {
   "cell_type": "code",
   "execution_count": 24,
   "id": "df606199",
   "metadata": {},
   "outputs": [],
   "source": [
    "import nltk\n",
    "from nltk.stem.snowball import SnowballStemmer\n",
    "\n",
    "snowBallStemmer = SnowballStemmer(\"english\")"
   ]
  },
  {
   "cell_type": "code",
   "execution_count": 25,
   "id": "2087c707",
   "metadata": {},
   "outputs": [],
   "source": [
    "stemmed_list = []\n",
    "stemmed_tokens_list = []\n",
    "for i in range(len(yelp_data_unpacked)):\n",
    "    sentence = yelp_data_unpacked['Lemmatized'][i]\n",
    "    wordList = nltk.word_tokenize(sentence)\n",
    "    stemWords = [snowBallStemmer.stem(word) for word in wordList]\n",
    "    \n",
    "    stemmed = ' '.join(stemWords)\n",
    "    stemmed_list.append(stemmed)"
   ]
  },
  {
   "cell_type": "code",
   "execution_count": 26,
   "id": "b4ab0ace",
   "metadata": {},
   "outputs": [],
   "source": [
    "yelp_data_unpacked['Stemmed:Sentence'] = stemmed_list"
   ]
  },
  {
   "cell_type": "code",
   "execution_count": 27,
   "id": "5a974642",
   "metadata": {},
   "outputs": [],
   "source": [
    "def word_extraction(sentence):   \n",
    "    words = sentence.split()    \n",
    "    cleaned_text = [w.lower() for w in words]    \n",
    "    return cleaned_text"
   ]
  },
  {
   "cell_type": "code",
   "execution_count": 28,
   "id": "70981ad4",
   "metadata": {},
   "outputs": [],
   "source": [
    "for i in range(len(yelp_data_unpacked)):\n",
    "    stemmed = yelp_data_unpacked['Stemmed:Sentence'][i]\n",
    "    tokens = word_extraction(stemmed)\n",
    "    stemmed_tokens_list.append(tokens)"
   ]
  },
  {
   "cell_type": "code",
   "execution_count": 29,
   "id": "010b4fb3",
   "metadata": {},
   "outputs": [],
   "source": [
    "yelp_data_unpacked['Stemmed:Tokens'] = stemmed_tokens_list"
   ]
  },
  {
   "cell_type": "code",
   "execution_count": 30,
   "id": "83aef39d",
   "metadata": {},
   "outputs": [
    {
     "data": {
      "text/plain": [
       "['morri',\n",
       " 'park',\n",
       " 'bake',\n",
       " 'shop',\n",
       " 'becom',\n",
       " 'go',\n",
       " 'spot',\n",
       " 'atmospher',\n",
       " 'place',\n",
       " 'great',\n",
       " 'invit',\n",
       " 'love',\n",
       " 'everi',\n",
       " 'thing',\n",
       " 'order',\n",
       " 'staff',\n",
       " 'realli',\n",
       " 'pleasant',\n",
       " 'definit',\n",
       " 'help',\n",
       " 'anyth',\n",
       " 'definit',\n",
       " 'come',\n",
       " 'back',\n",
       " 'morri',\n",
       " 'park',\n",
       " 'bake',\n",
       " 'shop']"
      ]
     },
     "execution_count": 30,
     "metadata": {},
     "output_type": "execute_result"
    }
   ],
   "source": [
    "yelp_data_unpacked['Stemmed:Tokens'][1]"
   ]
  },
  {
   "cell_type": "code",
   "execution_count": 31,
   "id": "2fa4ec5b",
   "metadata": {},
   "outputs": [],
   "source": [
    "yelp_data_unpacked['Stemmed_Word_Count'] = yelp_data_unpacked['Stemmed:Sentence'].apply(lambda x: len(str(x).split()))"
   ]
  },
  {
   "cell_type": "code",
   "execution_count": 32,
   "id": "19a1ae6c",
   "metadata": {},
   "outputs": [
    {
     "data": {
      "text/plain": [
       "<matplotlib.legend.Legend at 0x2c85d618430>"
      ]
     },
     "execution_count": 32,
     "metadata": {},
     "output_type": "execute_result"
    },
    {
     "data": {
      "image/png": "[encoded data removed]",
      "text/plain": [
       "<Figure size 720x360 with 1 Axes>"
      ]
     },
     "metadata": {
      "needs_background": "light"
     },
     "output_type": "display_data"
    }
   ],
   "source": [
    "plt.figure(figsize=(10,5))\n",
    "yelp_data_unpacked[yelp_data_unpacked['Review_Word_Count']< 2000]['Review_Word_Count'].plot()\n",
    "yelp_data_unpacked[yelp_data_unpacked['Stemmed_Word_Count']< 1000]['Stemmed_Word_Count'].plot()\n",
    "plt.title('Review Word Count, Stemmed with No Stop Words')\n",
    "plt.xlabel('Review #')\n",
    "plt.ylabel('Number of Words')\n",
    "plt.legend()"
   ]
  },
  {
   "cell_type": "markdown",
   "id": "ff66d9fe",
   "metadata": {},
   "source": [
    "# Positive Opinion Lexicon"
   ]
  },
  {
   "cell_type": "code",
   "execution_count": 33,
   "id": "bad5b9f9",
   "metadata": {},
   "outputs": [],
   "source": [
    "file = open(\"positive_lexicon.txt\", \"r\")\n",
    "content = file.read()\n",
    "pos_lex = content.splitlines()\n",
    "pos_lex_stem = [snowBallStemmer.stem(word) for word in pos_lex]"
   ]
  },
  {
   "cell_type": "code",
   "execution_count": 34,
   "id": "cf2b6f55",
   "metadata": {},
   "outputs": [],
   "source": [
    "good_count = []\n",
    "for i in range(len(yelp_data_unpacked)):\n",
    "    count = 0\n",
    "    tokens = yelp_data_unpacked['Stemmed:Tokens'][i]\n",
    "    for word in tokens:\n",
    "        if word in pos_lex_stem:\n",
    "            count += 1\n",
    "    good_count.append(count)"
   ]
  },
  {
   "cell_type": "code",
   "execution_count": 35,
   "id": "742173d3",
   "metadata": {},
   "outputs": [],
   "source": [
    "yelp_data_unpacked['Positive_Word_Count'] = good_count"
   ]
  },
  {
   "cell_type": "code",
   "execution_count": 36,
   "id": "d607777b",
   "metadata": {},
   "outputs": [],
   "source": [
    "yelp_data_unpacked['Positive_Words_%'] = yelp_data_unpacked['Positive_Word_Count']/(yelp_data_unpacked['Review_Word_Count']-yelp_data_unpacked['Stop_Word_Count'])"
   ]
  },
  {
   "cell_type": "code",
   "execution_count": 37,
   "id": "55d5ea92",
   "metadata": {},
   "outputs": [
    {
     "data": {
      "text/plain": [
       "Text(0, 0.5, 'Percentage')"
      ]
     },
     "execution_count": 37,
     "metadata": {},
     "output_type": "execute_result"
    },
    {
     "data": {
      "image/png": "[encoded data removed]",
      "text/plain": [
       "<Figure size 432x288 with 1 Axes>"
      ]
     },
     "metadata": {
      "needs_background": "light"
     },
     "output_type": "display_data"
    }
   ],
   "source": [
    "yelp_data_unpacked['Positive_Words_%'].plot()\n",
    "plt.title('Percentage of Positive Words in Yelp Reviews')\n",
    "plt.xlabel('Review #')\n",
    "plt.ylabel('Percentage')"
   ]
  },
  {
   "cell_type": "code",
   "execution_count": 38,
   "id": "7312aaeb",
   "metadata": {},
   "outputs": [
    {
     "data": {
      "text/plain": [
       "<matplotlib.legend.Legend at 0x2c85efbd0a0>"
      ]
     },
     "execution_count": 38,
     "metadata": {},
     "output_type": "execute_result"
    },
    {
     "data": {
      "image/png": "[encoded data removed]",
      "text/plain": [
       "<Figure size 720x360 with 1 Axes>"
      ]
     },
     "metadata": {
      "needs_background": "light"
     },
     "output_type": "display_data"
    }
   ],
   "source": [
    "plt.figure(figsize=(10,5))\n",
    "yelp_data_unpacked[yelp_data_unpacked['Review_Word_Count']< 2000]['Review_Word_Count'].plot()\n",
    "yelp_data_unpacked[yelp_data_unpacked['Positive_Word_Count']< 600]['Positive_Word_Count'].plot()\n",
    "plt.title('Positive Words in Yelp Reviews')\n",
    "plt.xlabel('Review #')\n",
    "plt.ylabel('Number of Words')\n",
    "plt.legend()"
   ]
  },
  {
   "cell_type": "code",
   "execution_count": 39,
   "id": "77b8aa1a",
   "metadata": {},
   "outputs": [],
   "source": [
    "from textblob import TextBlob"
   ]
  },
  {
   "cell_type": "code",
   "execution_count": 40,
   "id": "f1f17116",
   "metadata": {},
   "outputs": [],
   "source": [
    "yelp_data_unpacked['Polarity'] = yelp_data_unpacked['Lemmatized'].apply(lambda x: TextBlob(x).sentiment[0])\n",
    "yelp_data_unpacked['Subjectivity'] = yelp_data_unpacked['Lemmatized'].apply(lambda x: TextBlob(x).sentiment[1])"
   ]
  },
  {
   "cell_type": "code",
   "execution_count": 41,
   "id": "fda7d7cb",
   "metadata": {},
   "outputs": [
    {
     "data": {
      "text/html": [
       "<div>\n",
       "<style scoped>\n",
       "    .dataframe tbody tr th:only-of-type {\n",
       "        vertical-align: middle;\n",
       "    }\n",
       "\n",
       "    .dataframe tbody tr th {\n",
       "        vertical-align: top;\n",
       "    }\n",
       "\n",
       "    .dataframe thead th {\n",
       "        text-align: right;\n",
       "    }\n",
       "</style>\n",
       "<table border=\"1\" class=\"dataframe\">\n",
       "  <thead>\n",
       "    <tr style=\"text-align: right;\">\n",
       "      <th></th>\n",
       "      <th>Alias</th>\n",
       "      <th>Name</th>\n",
       "      <th>Rating</th>\n",
       "      <th>Price</th>\n",
       "      <th>City</th>\n",
       "      <th>Zip_code</th>\n",
       "      <th>Address</th>\n",
       "      <th>Review</th>\n",
       "      <th>Review_Word_Count</th>\n",
       "      <th>Lowercase</th>\n",
       "      <th>...</th>\n",
       "      <th>No_Stop_Words:Sentence</th>\n",
       "      <th>Stop_Word_Count</th>\n",
       "      <th>Lemmatized</th>\n",
       "      <th>Stemmed:Sentence</th>\n",
       "      <th>Stemmed:Tokens</th>\n",
       "      <th>Stemmed_Word_Count</th>\n",
       "      <th>Positive_Word_Count</th>\n",
       "      <th>Positive_Words_%</th>\n",
       "      <th>Polarity</th>\n",
       "      <th>Subjectivity</th>\n",
       "    </tr>\n",
       "  </thead>\n",
       "  <tbody>\n",
       "    <tr>\n",
       "      <th>0</th>\n",
       "      <td>morris-park-bake-shop-bronx</td>\n",
       "      <td>Morris Park Bake Shop</td>\n",
       "      <td>4.5</td>\n",
       "      <td>$$</td>\n",
       "      <td>Bronx</td>\n",
       "      <td>10462</td>\n",
       "      <td>1007 Morris Park Ave</td>\n",
       "      <td>'The chocolate cups are amazing! Have been eat...</td>\n",
       "      <td>16</td>\n",
       "      <td>'the chocolate cups are amazing! have been eat...</td>\n",
       "      <td>...</td>\n",
       "      <td>chocolate cups amazing eating years always ta...</td>\n",
       "      <td>7</td>\n",
       "      <td>chocolate cup amazing eating year always taste...</td>\n",
       "      <td>chocol cup amaz eat year alway tast fantast</td>\n",
       "      <td>[chocol, cup, amaz, eat, year, alway, tast, fa...</td>\n",
       "      <td>8</td>\n",
       "      <td>2</td>\n",
       "      <td>0.222222</td>\n",
       "      <td>0.500000</td>\n",
       "      <td>0.900000</td>\n",
       "    </tr>\n",
       "    <tr>\n",
       "      <th>1</th>\n",
       "      <td>morris-park-bake-shop-bronx</td>\n",
       "      <td>Morris Park Bake Shop</td>\n",
       "      <td>4.5</td>\n",
       "      <td>$$</td>\n",
       "      <td>Bronx</td>\n",
       "      <td>10462</td>\n",
       "      <td>1007 Morris Park Ave</td>\n",
       "      <td>'Morris Park Bake Shop has become my go to spo...</td>\n",
       "      <td>49</td>\n",
       "      <td>'morris park bake shop has become my go to spo...</td>\n",
       "      <td>...</td>\n",
       "      <td>morris park bake shop become go spot atmosphe...</td>\n",
       "      <td>20</td>\n",
       "      <td>morris park bake shop become go spot atmospher...</td>\n",
       "      <td>morri park bake shop becom go spot atmospher p...</td>\n",
       "      <td>[morri, park, bake, shop, becom, go, spot, atm...</td>\n",
       "      <td>28</td>\n",
       "      <td>6</td>\n",
       "      <td>0.206897</td>\n",
       "      <td>0.338889</td>\n",
       "      <td>0.552778</td>\n",
       "    </tr>\n",
       "    <tr>\n",
       "      <th>2</th>\n",
       "      <td>morris-park-bake-shop-bronx</td>\n",
       "      <td>Morris Park Bake Shop</td>\n",
       "      <td>4.5</td>\n",
       "      <td>$$</td>\n",
       "      <td>Bronx</td>\n",
       "      <td>10462</td>\n",
       "      <td>1007 Morris Park Ave</td>\n",
       "      <td>'I thought the cookies and biscotti were prett...</td>\n",
       "      <td>122</td>\n",
       "      <td>'i thought the cookies and biscotti were prett...</td>\n",
       "      <td>...</td>\n",
       "      <td>thought cookies biscotti pretty good definite...</td>\n",
       "      <td>53</td>\n",
       "      <td>thought cooky biscotti pretty good definitely ...</td>\n",
       "      <td>thought cooki biscotti pretti good definit tas...</td>\n",
       "      <td>[thought, cooki, biscotti, pretti, good, defin...</td>\n",
       "      <td>61</td>\n",
       "      <td>9</td>\n",
       "      <td>0.130435</td>\n",
       "      <td>0.314583</td>\n",
       "      <td>0.438194</td>\n",
       "    </tr>\n",
       "    <tr>\n",
       "      <th>3</th>\n",
       "      <td>morris-park-bake-shop-bronx</td>\n",
       "      <td>Morris Park Bake Shop</td>\n",
       "      <td>4.5</td>\n",
       "      <td>$$</td>\n",
       "      <td>Bronx</td>\n",
       "      <td>10462</td>\n",
       "      <td>1007 Morris Park Ave</td>\n",
       "      <td>'Guys.... so Im a big time biscotti connoisseu...</td>\n",
       "      <td>169</td>\n",
       "      <td>'guys.... so im a big time biscotti connoisseu...</td>\n",
       "      <td>...</td>\n",
       "      <td>guys im big time biscotti connoisseur always ...</td>\n",
       "      <td>75</td>\n",
       "      <td>guy im big time biscotti connoisseur always hu...</td>\n",
       "      <td>guy im big time biscotti connoisseur alway hun...</td>\n",
       "      <td>[guy, im, big, time, biscotti, connoisseur, al...</td>\n",
       "      <td>90</td>\n",
       "      <td>12</td>\n",
       "      <td>0.127660</td>\n",
       "      <td>0.238068</td>\n",
       "      <td>0.587311</td>\n",
       "    </tr>\n",
       "    <tr>\n",
       "      <th>4</th>\n",
       "      <td>morris-park-bake-shop-bronx</td>\n",
       "      <td>Morris Park Bake Shop</td>\n",
       "      <td>4.5</td>\n",
       "      <td>$$</td>\n",
       "      <td>Bronx</td>\n",
       "      <td>10462</td>\n",
       "      <td>1007 Morris Park Ave</td>\n",
       "      <td>'I had a craving for a special type of cake wi...</td>\n",
       "      <td>59</td>\n",
       "      <td>'i had a craving for a special type of cake wi...</td>\n",
       "      <td>...</td>\n",
       "      <td>craving special type cake ice cream layer reg...</td>\n",
       "      <td>27</td>\n",
       "      <td>craving special type cake ice cream layer regu...</td>\n",
       "      <td>crave special type cake ice cream layer regula...</td>\n",
       "      <td>[crave, special, type, cake, ice, cream, layer...</td>\n",
       "      <td>30</td>\n",
       "      <td>7</td>\n",
       "      <td>0.218750</td>\n",
       "      <td>0.314643</td>\n",
       "      <td>0.536044</td>\n",
       "    </tr>\n",
       "    <tr>\n",
       "      <th>...</th>\n",
       "      <td>...</td>\n",
       "      <td>...</td>\n",
       "      <td>...</td>\n",
       "      <td>...</td>\n",
       "      <td>...</td>\n",
       "      <td>...</td>\n",
       "      <td>...</td>\n",
       "      <td>...</td>\n",
       "      <td>...</td>\n",
       "      <td>...</td>\n",
       "      <td>...</td>\n",
       "      <td>...</td>\n",
       "      <td>...</td>\n",
       "      <td>...</td>\n",
       "      <td>...</td>\n",
       "      <td>...</td>\n",
       "      <td>...</td>\n",
       "      <td>...</td>\n",
       "      <td>...</td>\n",
       "      <td>...</td>\n",
       "      <td>...</td>\n",
       "    </tr>\n",
       "    <tr>\n",
       "      <th>11061</th>\n",
       "      <td>tonys-pier-restaurant-bronx</td>\n",
       "      <td>Tony's Pier Restaurant</td>\n",
       "      <td>3.5</td>\n",
       "      <td>$$</td>\n",
       "      <td>Bronx</td>\n",
       "      <td>10464</td>\n",
       "      <td>1 City Island Ave</td>\n",
       "      <td>'The food and drinks were amazing. I went ther...</td>\n",
       "      <td>47</td>\n",
       "      <td>'the food and drinks were amazing. i went ther...</td>\n",
       "      <td>...</td>\n",
       "      <td>food drinks amazing went catch friend havent ...</td>\n",
       "      <td>26</td>\n",
       "      <td>food drink amazing went catch friend havent se...</td>\n",
       "      <td>food drink amaz went catch friend havent seen ...</td>\n",
       "      <td>[food, drink, amaz, went, catch, friend, haven...</td>\n",
       "      <td>19</td>\n",
       "      <td>5</td>\n",
       "      <td>0.238095</td>\n",
       "      <td>0.650000</td>\n",
       "      <td>0.737500</td>\n",
       "    </tr>\n",
       "    <tr>\n",
       "      <th>11062</th>\n",
       "      <td>tonys-pier-restaurant-bronx</td>\n",
       "      <td>Tony's Pier Restaurant</td>\n",
       "      <td>3.5</td>\n",
       "      <td>$$</td>\n",
       "      <td>Bronx</td>\n",
       "      <td>10464</td>\n",
       "      <td>1 City Island Ave</td>\n",
       "      <td>'I frequently come to this restaurant almost t...</td>\n",
       "      <td>60</td>\n",
       "      <td>'i frequently come to this restaurant almost t...</td>\n",
       "      <td>...</td>\n",
       "      <td>frequently come restaurant almost three times...</td>\n",
       "      <td>21</td>\n",
       "      <td>frequently come restaurant almost three time m...</td>\n",
       "      <td>frequent come restaur almost three time month ...</td>\n",
       "      <td>[frequent, come, restaur, almost, three, time,...</td>\n",
       "      <td>39</td>\n",
       "      <td>11</td>\n",
       "      <td>0.282051</td>\n",
       "      <td>0.404167</td>\n",
       "      <td>0.589583</td>\n",
       "    </tr>\n",
       "    <tr>\n",
       "      <th>11063</th>\n",
       "      <td>tonys-pier-restaurant-bronx</td>\n",
       "      <td>Tony's Pier Restaurant</td>\n",
       "      <td>3.5</td>\n",
       "      <td>$$</td>\n",
       "      <td>Bronx</td>\n",
       "      <td>10464</td>\n",
       "      <td>1 City Island Ave</td>\n",
       "      <td>'I just went back yesterday and OMG the Lobste...</td>\n",
       "      <td>82</td>\n",
       "      <td>'i just went back yesterday and omg the lobste...</td>\n",
       "      <td>...</td>\n",
       "      <td>went back yesterday omg lobsters back ordered...</td>\n",
       "      <td>35</td>\n",
       "      <td>went back yesterday omg lobster back ordered 4...</td>\n",
       "      <td>went back yesterday omg lobster back order 4 b...</td>\n",
       "      <td>[went, back, yesterday, omg, lobster, back, or...</td>\n",
       "      <td>45</td>\n",
       "      <td>10</td>\n",
       "      <td>0.212766</td>\n",
       "      <td>0.375000</td>\n",
       "      <td>0.446875</td>\n",
       "    </tr>\n",
       "    <tr>\n",
       "      <th>11064</th>\n",
       "      <td>tonys-pier-restaurant-bronx</td>\n",
       "      <td>Tony's Pier Restaurant</td>\n",
       "      <td>3.5</td>\n",
       "      <td>$$</td>\n",
       "      <td>Bronx</td>\n",
       "      <td>10464</td>\n",
       "      <td>1 City Island Ave</td>\n",
       "      <td>'Been to Johnnys. A little cleaner here for th...</td>\n",
       "      <td>58</td>\n",
       "      <td>'been to johnnys. a little cleaner here for th...</td>\n",
       "      <td>...</td>\n",
       "      <td>johnnys little cleaner type fast food indoor ...</td>\n",
       "      <td>27</td>\n",
       "      <td>johnny little cleaner type fast food indoor se...</td>\n",
       "      <td>johnni littl cleaner type fast food indoor sea...</td>\n",
       "      <td>[johnni, littl, cleaner, type, fast, food, ind...</td>\n",
       "      <td>30</td>\n",
       "      <td>3</td>\n",
       "      <td>0.096774</td>\n",
       "      <td>-0.009375</td>\n",
       "      <td>0.375000</td>\n",
       "    </tr>\n",
       "    <tr>\n",
       "      <th>11065</th>\n",
       "      <td>tonys-pier-restaurant-bronx</td>\n",
       "      <td>Tony's Pier Restaurant</td>\n",
       "      <td>3.5</td>\n",
       "      <td>$$</td>\n",
       "      <td>Bronx</td>\n",
       "      <td>10464</td>\n",
       "      <td>1 City Island Ave</td>\n",
       "      <td>'Tonys is definitely one of my favorite spots ...</td>\n",
       "      <td>22</td>\n",
       "      <td>'tonys is definitely one of my favorite spots ...</td>\n",
       "      <td>...</td>\n",
       "      <td>tonys definitely one favorite spots go quick ...</td>\n",
       "      <td>7</td>\n",
       "      <td>tonys definitely one favorite spot go quick fr...</td>\n",
       "      <td>toni definit one favorit spot go quick fri foo...</td>\n",
       "      <td>[toni, definit, one, favorit, spot, go, quick,...</td>\n",
       "      <td>15</td>\n",
       "      <td>2</td>\n",
       "      <td>0.133333</td>\n",
       "      <td>0.066667</td>\n",
       "      <td>0.780000</td>\n",
       "    </tr>\n",
       "  </tbody>\n",
       "</table>\n",
       "<p>11066 rows × 22 columns</p>\n",
       "</div>"
      ],
      "text/plain": [
       "                             Alias                    Name  Rating Price  \\\n",
       "0      morris-park-bake-shop-bronx   Morris Park Bake Shop     4.5    $$   \n",
       "1      morris-park-bake-shop-bronx   Morris Park Bake Shop     4.5    $$   \n",
       "2      morris-park-bake-shop-bronx   Morris Park Bake Shop     4.5    $$   \n",
       "3      morris-park-bake-shop-bronx   Morris Park Bake Shop     4.5    $$   \n",
       "4      morris-park-bake-shop-bronx   Morris Park Bake Shop     4.5    $$   \n",
       "...                            ...                     ...     ...   ...   \n",
       "11061  tonys-pier-restaurant-bronx  Tony's Pier Restaurant     3.5    $$   \n",
       "11062  tonys-pier-restaurant-bronx  Tony's Pier Restaurant     3.5    $$   \n",
       "11063  tonys-pier-restaurant-bronx  Tony's Pier Restaurant     3.5    $$   \n",
       "11064  tonys-pier-restaurant-bronx  Tony's Pier Restaurant     3.5    $$   \n",
       "11065  tonys-pier-restaurant-bronx  Tony's Pier Restaurant     3.5    $$   \n",
       "\n",
       "        City  Zip_code               Address  \\\n",
       "0      Bronx     10462  1007 Morris Park Ave   \n",
       "1      Bronx     10462  1007 Morris Park Ave   \n",
       "2      Bronx     10462  1007 Morris Park Ave   \n",
       "3      Bronx     10462  1007 Morris Park Ave   \n",
       "4      Bronx     10462  1007 Morris Park Ave   \n",
       "...      ...       ...                   ...   \n",
       "11061  Bronx     10464     1 City Island Ave   \n",
       "11062  Bronx     10464     1 City Island Ave   \n",
       "11063  Bronx     10464     1 City Island Ave   \n",
       "11064  Bronx     10464     1 City Island Ave   \n",
       "11065  Bronx     10464     1 City Island Ave   \n",
       "\n",
       "                                                  Review  Review_Word_Count  \\\n",
       "0      'The chocolate cups are amazing! Have been eat...                 16   \n",
       "1      'Morris Park Bake Shop has become my go to spo...                 49   \n",
       "2      'I thought the cookies and biscotti were prett...                122   \n",
       "3      'Guys.... so Im a big time biscotti connoisseu...                169   \n",
       "4      'I had a craving for a special type of cake wi...                 59   \n",
       "...                                                  ...                ...   \n",
       "11061  'The food and drinks were amazing. I went ther...                 47   \n",
       "11062  'I frequently come to this restaurant almost t...                 60   \n",
       "11063  'I just went back yesterday and OMG the Lobste...                 82   \n",
       "11064  'Been to Johnnys. A little cleaner here for th...                 58   \n",
       "11065  'Tonys is definitely one of my favorite spots ...                 22   \n",
       "\n",
       "                                               Lowercase  ...  \\\n",
       "0      'the chocolate cups are amazing! have been eat...  ...   \n",
       "1      'morris park bake shop has become my go to spo...  ...   \n",
       "2      'i thought the cookies and biscotti were prett...  ...   \n",
       "3      'guys.... so im a big time biscotti connoisseu...  ...   \n",
       "4      'i had a craving for a special type of cake wi...  ...   \n",
       "...                                                  ...  ...   \n",
       "11061  'the food and drinks were amazing. i went ther...  ...   \n",
       "11062  'i frequently come to this restaurant almost t...  ...   \n",
       "11063  'i just went back yesterday and omg the lobste...  ...   \n",
       "11064  'been to johnnys. a little cleaner here for th...  ...   \n",
       "11065  'tonys is definitely one of my favorite spots ...  ...   \n",
       "\n",
       "                                  No_Stop_Words:Sentence Stop_Word_Count  \\\n",
       "0       chocolate cups amazing eating years always ta...               7   \n",
       "1       morris park bake shop become go spot atmosphe...              20   \n",
       "2       thought cookies biscotti pretty good definite...              53   \n",
       "3       guys im big time biscotti connoisseur always ...              75   \n",
       "4       craving special type cake ice cream layer reg...              27   \n",
       "...                                                  ...             ...   \n",
       "11061   food drinks amazing went catch friend havent ...              26   \n",
       "11062   frequently come restaurant almost three times...              21   \n",
       "11063   went back yesterday omg lobsters back ordered...              35   \n",
       "11064   johnnys little cleaner type fast food indoor ...              27   \n",
       "11065   tonys definitely one favorite spots go quick ...               7   \n",
       "\n",
       "                                              Lemmatized  \\\n",
       "0      chocolate cup amazing eating year always taste...   \n",
       "1      morris park bake shop become go spot atmospher...   \n",
       "2      thought cooky biscotti pretty good definitely ...   \n",
       "3      guy im big time biscotti connoisseur always hu...   \n",
       "4      craving special type cake ice cream layer regu...   \n",
       "...                                                  ...   \n",
       "11061  food drink amazing went catch friend havent se...   \n",
       "11062  frequently come restaurant almost three time m...   \n",
       "11063  went back yesterday omg lobster back ordered 4...   \n",
       "11064  johnny little cleaner type fast food indoor se...   \n",
       "11065  tonys definitely one favorite spot go quick fr...   \n",
       "\n",
       "                                        Stemmed:Sentence  \\\n",
       "0            chocol cup amaz eat year alway tast fantast   \n",
       "1      morri park bake shop becom go spot atmospher p...   \n",
       "2      thought cooki biscotti pretti good definit tas...   \n",
       "3      guy im big time biscotti connoisseur alway hun...   \n",
       "4      crave special type cake ice cream layer regula...   \n",
       "...                                                  ...   \n",
       "11061  food drink amaz went catch friend havent seen ...   \n",
       "11062  frequent come restaur almost three time month ...   \n",
       "11063  went back yesterday omg lobster back order 4 b...   \n",
       "11064  johnni littl cleaner type fast food indoor sea...   \n",
       "11065  toni definit one favorit spot go quick fri foo...   \n",
       "\n",
       "                                          Stemmed:Tokens Stemmed_Word_Count  \\\n",
       "0      [chocol, cup, amaz, eat, year, alway, tast, fa...                  8   \n",
       "1      [morri, park, bake, shop, becom, go, spot, atm...                 28   \n",
       "2      [thought, cooki, biscotti, pretti, good, defin...                 61   \n",
       "3      [guy, im, big, time, biscotti, connoisseur, al...                 90   \n",
       "4      [crave, special, type, cake, ice, cream, layer...                 30   \n",
       "...                                                  ...                ...   \n",
       "11061  [food, drink, amaz, went, catch, friend, haven...                 19   \n",
       "11062  [frequent, come, restaur, almost, three, time,...                 39   \n",
       "11063  [went, back, yesterday, omg, lobster, back, or...                 45   \n",
       "11064  [johnni, littl, cleaner, type, fast, food, ind...                 30   \n",
       "11065  [toni, definit, one, favorit, spot, go, quick,...                 15   \n",
       "\n",
       "      Positive_Word_Count  Positive_Words_%  Polarity  Subjectivity  \n",
       "0                       2          0.222222  0.500000      0.900000  \n",
       "1                       6          0.206897  0.338889      0.552778  \n",
       "2                       9          0.130435  0.314583      0.438194  \n",
       "3                      12          0.127660  0.238068      0.587311  \n",
       "4                       7          0.218750  0.314643      0.536044  \n",
       "...                   ...               ...       ...           ...  \n",
       "11061                   5          0.238095  0.650000      0.737500  \n",
       "11062                  11          0.282051  0.404167      0.589583  \n",
       "11063                  10          0.212766  0.375000      0.446875  \n",
       "11064                   3          0.096774 -0.009375      0.375000  \n",
       "11065                   2          0.133333  0.066667      0.780000  \n",
       "\n",
       "[11066 rows x 22 columns]"
      ]
     },
     "execution_count": 41,
     "metadata": {},
     "output_type": "execute_result"
    }
   ],
   "source": [
    "yelp_data_unpacked"
   ]
  },
  {
   "cell_type": "code",
   "execution_count": 42,
   "id": "f7cf76b9",
   "metadata": {},
   "outputs": [
    {
     "data": {
      "text/plain": [
       "Index(['Alias', 'Name', 'Rating', 'Price', 'City', 'Zip_code', 'Address',\n",
       "       'Review', 'Review_Word_Count', 'Lowercase', 'Cleaned',\n",
       "       'No_Stop_Words:Tokens', 'No_Stop_Words:Sentence', 'Stop_Word_Count',\n",
       "       'Lemmatized', 'Stemmed:Sentence', 'Stemmed:Tokens',\n",
       "       'Stemmed_Word_Count', 'Positive_Word_Count', 'Positive_Words_%',\n",
       "       'Polarity', 'Subjectivity'],\n",
       "      dtype='object')"
      ]
     },
     "execution_count": 42,
     "metadata": {},
     "output_type": "execute_result"
    }
   ],
   "source": [
    "yelp_data_unpacked.columns"
   ]
  },
  {
   "cell_type": "code",
   "execution_count": 45,
   "id": "31b94ca0",
   "metadata": {},
   "outputs": [],
   "source": [
    "yelp_data_analyzed = yelp_data_unpacked[['Alias', 'Name', 'Rating', 'Price', 'City', 'Zip_code', 'Address',\n",
    "       'Review', 'Review_Word_Count', 'No_Stop_Words:Tokens', 'No_Stop_Words:Sentence',\n",
    "       'Stop_Word_Count', 'Stop_Words_%', 'Lemmatized', 'Stemmed:Sentence',\n",
    "       'Stemmed:Tokens', 'Polarity','Positive_Word_Count', 'Positive_Words_%','Stemmed_Word_Count']]"
   ]
  },
  {
   "cell_type": "code",
   "execution_count": 46,
   "id": "58538bed",
   "metadata": {},
   "outputs": [],
   "source": [
    "yelp_data_analyzed.to_csv(r'yelp_data_analyzed.csv',index=False)"
   ]
  },
  {
   "cell_type": "markdown",
   "id": "dc7920bd",
   "metadata": {},
   "source": [
    "-------------------------------------END-------------------------------------------------------------------------------------"
   ]
  }
 ],
 "metadata": {
  "kernelspec": {
   "display_name": "Python 3 (ipykernel)",
   "language": "python",
   "name": "python3"
  },
  "language_info": {
   "codemirror_mode": {
    "name": "ipython",
    "version": 3
   },
   "file_extension": ".py",
   "mimetype": "text/x-python",
   "name": "python",
   "nbconvert_exporter": "python",
   "pygments_lexer": "ipython3",
   "version": "3.9.7"
  }
 },
 "nbformat": 4,
 "nbformat_minor": 5
}
