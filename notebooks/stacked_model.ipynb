{
 "cells": [
  {
   "cell_type": "markdown",
   "id": "34ba67b9",
   "metadata": {},
   "source": [
    "# Stacked Model"
   ]
  },
  {
   "cell_type": "code",
   "execution_count": 1,
   "id": "238ac4e3",
   "metadata": {},
   "outputs": [],
   "source": [
    "import pandas as pd\n",
    "import numpy as np\n",
    "import matplotlib.pyplot as plt\n",
    "import warnings\n",
    "warnings.filterwarnings('ignore')\n",
    "\n",
    "yelp_data = pd.read_csv('yelp_data_sentiment.csv')"
   ]
  },
  {
   "cell_type": "code",
   "execution_count": 2,
   "id": "e44fe59a",
   "metadata": {},
   "outputs": [],
   "source": [
    "level0=list()"
   ]
  },
  {
   "cell_type": "code",
   "execution_count": 3,
   "id": "a659b0d6",
   "metadata": {},
   "outputs": [],
   "source": [
    "import pickle"
   ]
  },
  {
   "cell_type": "code",
   "execution_count": 4,
   "id": "bc683aa7",
   "metadata": {},
   "outputs": [],
   "source": [
    "from sklearn.linear_model import LogisticRegression"
   ]
  },
  {
   "cell_type": "code",
   "execution_count": 5,
   "id": "79c3a029",
   "metadata": {},
   "outputs": [],
   "source": [
    "clf=pickle.load(open('lr.sav', 'rb'))"
   ]
  },
  {
   "cell_type": "code",
   "execution_count": 6,
   "id": "16bc5029",
   "metadata": {},
   "outputs": [],
   "source": [
    "level0.append(('lr',clf))"
   ]
  },
  {
   "cell_type": "code",
   "execution_count": 7,
   "id": "5eae6703",
   "metadata": {},
   "outputs": [],
   "source": [
    "from sklearn.ensemble import RandomForestClassifier"
   ]
  },
  {
   "cell_type": "code",
   "execution_count": 8,
   "id": "2eb4a18c",
   "metadata": {},
   "outputs": [],
   "source": [
    "clf=pickle.load(open('rf.sav', 'rb'))"
   ]
  },
  {
   "cell_type": "code",
   "execution_count": 9,
   "id": "ab91e911",
   "metadata": {},
   "outputs": [],
   "source": [
    "level0.append(('rf',clf))"
   ]
  },
  {
   "cell_type": "code",
   "execution_count": 10,
   "id": "e81f143f",
   "metadata": {},
   "outputs": [],
   "source": [
    "from sklearn.svm import SVC"
   ]
  },
  {
   "cell_type": "code",
   "execution_count": 11,
   "id": "edbbaaab",
   "metadata": {},
   "outputs": [],
   "source": [
    "clf=pickle.load(open('svc.sav', 'rb'))"
   ]
  },
  {
   "cell_type": "code",
   "execution_count": 12,
   "id": "4b62db36",
   "metadata": {},
   "outputs": [],
   "source": [
    "level0.append(('svc',clf))"
   ]
  },
  {
   "cell_type": "code",
   "execution_count": 13,
   "id": "2d8d3e16",
   "metadata": {},
   "outputs": [],
   "source": [
    "from sklearn.ensemble import GradientBoostingClassifier"
   ]
  },
  {
   "cell_type": "code",
   "execution_count": 14,
   "id": "8ca685ff",
   "metadata": {},
   "outputs": [],
   "source": [
    "clf=pickle.load(open('gbc.sav', 'rb'))"
   ]
  },
  {
   "cell_type": "code",
   "execution_count": 15,
   "id": "8ac6bf06",
   "metadata": {},
   "outputs": [],
   "source": [
    "level0.append(('gbc',clf))"
   ]
  },
  {
   "cell_type": "code",
   "execution_count": 16,
   "id": "1e781e3a",
   "metadata": {},
   "outputs": [
    {
     "data": {
      "text/plain": [
       "[('lr',\n",
       "  GridSearchCV(cv=10,\n",
       "               estimator=Pipeline(steps=[('scaler', StandardScaler()),\n",
       "                                         ('lr', LogisticRegression())]),\n",
       "               param_grid={'lr__C': [0.01, 0.1, 1, 10, 100]}, scoring='accuracy')),\n",
       " ('rf',\n",
       "  GridSearchCV(cv=10,\n",
       "               estimator=Pipeline(steps=[('scaler', StandardScaler()),\n",
       "                                         ('rf', RandomForestClassifier())]),\n",
       "               param_grid={'rf__max_features': ['auto', 'sqrt'],\n",
       "                           'rf__n_estimators': [10, 20, 30, 40, 50]},\n",
       "               scoring='accuracy')),\n",
       " ('svc',\n",
       "  GridSearchCV(cv=3,\n",
       "               estimator=Pipeline(steps=[('scaler', StandardScaler()),\n",
       "                                         ('svc',\n",
       "                                          SVC(gamma='auto', kernel='linear'))]),\n",
       "               param_grid={'svc__C': [0.01, 0.1, 1]}, scoring='accuracy')),\n",
       " ('gbc',\n",
       "  GridSearchCV(cv=10,\n",
       "               estimator=Pipeline(steps=[('scaler', StandardScaler()),\n",
       "                                         ('gbc',\n",
       "                                          GradientBoostingClassifier(max_features='sqrt'))]),\n",
       "               param_grid={'gbc__learning_rate': [0.05, 0.1, 0.15, 0.2, 0.25],\n",
       "                           'gbc__n_estimators': [10, 50, 100, 200, 500]},\n",
       "               scoring='accuracy'))]"
      ]
     },
     "execution_count": 16,
     "metadata": {},
     "output_type": "execute_result"
    }
   ],
   "source": [
    "level0"
   ]
  },
  {
   "cell_type": "code",
   "execution_count": 17,
   "id": "1fffe958",
   "metadata": {},
   "outputs": [],
   "source": [
    "level1=LogisticRegression()"
   ]
  },
  {
   "cell_type": "code",
   "execution_count": 6,
   "id": "3377fc88",
   "metadata": {},
   "outputs": [],
   "source": [
    "from sklearn.ensemble import StackingClassifier"
   ]
  },
  {
   "cell_type": "code",
   "execution_count": 7,
   "id": "7a18b4ad",
   "metadata": {},
   "outputs": [],
   "source": [
    "X = yelp_data.iloc[0:,4:]\n",
    "y = yelp_data.Sentiment"
   ]
  },
  {
   "cell_type": "code",
   "execution_count": 8,
   "id": "dc676816",
   "metadata": {},
   "outputs": [],
   "source": [
    "from sklearn.model_selection import train_test_split"
   ]
  },
  {
   "cell_type": "code",
   "execution_count": 9,
   "id": "db2a7353",
   "metadata": {},
   "outputs": [],
   "source": [
    "X_train, X_test, y_train, y_test = train_test_split(X,y,train_size=0.8,random_state=7)"
   ]
  },
  {
   "cell_type": "code",
   "execution_count": 22,
   "id": "2173f58e",
   "metadata": {},
   "outputs": [],
   "source": [
    "model = StackingClassifier(estimators=level0, final_estimator=level1, cv=3)"
   ]
  },
  {
   "cell_type": "code",
   "execution_count": 23,
   "id": "c1e265ad",
   "metadata": {},
   "outputs": [
    {
     "data": {
      "text/plain": [
       "StackingClassifier(cv=3,\n",
       "                   estimators=[('lr',\n",
       "                                GridSearchCV(cv=10,\n",
       "                                             estimator=Pipeline(steps=[('scaler',\n",
       "                                                                        StandardScaler()),\n",
       "                                                                       ('lr',\n",
       "                                                                        LogisticRegression())]),\n",
       "                                             param_grid={'lr__C': [0.01, 0.1, 1,\n",
       "                                                                   10, 100]},\n",
       "                                             scoring='accuracy')),\n",
       "                               ('rf',\n",
       "                                GridSearchCV(cv=10,\n",
       "                                             estimator=Pipeline(steps=[('scaler',\n",
       "                                                                        StandardScaler()),\n",
       "                                                                       ('rf',\n",
       "                                                                        RandomForestClassifier())]),\n",
       "                                             param_grid={'rf__max_features'...\n",
       "                                             param_grid={'svc__C': [0.01, 0.1,\n",
       "                                                                    1]},\n",
       "                                             scoring='accuracy')),\n",
       "                               ('gbc',\n",
       "                                GridSearchCV(cv=10,\n",
       "                                             estimator=Pipeline(steps=[('scaler',\n",
       "                                                                        StandardScaler()),\n",
       "                                                                       ('gbc',\n",
       "                                                                        GradientBoostingClassifier(max_features='sqrt'))]),\n",
       "                                             param_grid={'gbc__learning_rate': [0.05,\n",
       "                                                                                0.1,\n",
       "                                                                                0.15,\n",
       "                                                                                0.2,\n",
       "                                                                                0.25],\n",
       "                                                         'gbc__n_estimators': [10,\n",
       "                                                                               50,\n",
       "                                                                               100,\n",
       "                                                                               200,\n",
       "                                                                               500]},\n",
       "                                             scoring='accuracy'))],\n",
       "                   final_estimator=LogisticRegression())"
      ]
     },
     "execution_count": 23,
     "metadata": {},
     "output_type": "execute_result"
    }
   ],
   "source": [
    "model.fit(X_train,y_train)"
   ]
  },
  {
   "cell_type": "code",
   "execution_count": 24,
   "id": "cc36c830",
   "metadata": {},
   "outputs": [],
   "source": [
    "test_accuracy = model.score(X_test, y_test)"
   ]
  },
  {
   "cell_type": "code",
   "execution_count": 25,
   "id": "9b1a8ee6",
   "metadata": {},
   "outputs": [
    {
     "name": "stdout",
     "output_type": "stream",
     "text": [
      "0.7710237659963437\n"
     ]
    }
   ],
   "source": [
    "print(test_accuracy)"
   ]
  },
  {
   "cell_type": "code",
   "execution_count": 26,
   "id": "468052c0",
   "metadata": {},
   "outputs": [],
   "source": [
    "filename = 'stacked_model.sav'\n",
    "pickle.dump(model, open(filename, 'wb'))"
   ]
  },
  {
   "cell_type": "code",
   "execution_count": 11,
   "id": "656dc355",
   "metadata": {},
   "outputs": [],
   "source": [
    "import pickle\n",
    "\n",
    "final_model=pickle.load(open('stacked_model.sav', 'rb'))"
   ]
  },
  {
   "cell_type": "code",
   "execution_count": 12,
   "id": "ca084200",
   "metadata": {},
   "outputs": [],
   "source": [
    "from sklearn.metrics import make_scorer, accuracy_score, f1_score"
   ]
  },
  {
   "cell_type": "code",
   "execution_count": 14,
   "id": "14b04370",
   "metadata": {},
   "outputs": [],
   "source": [
    "results = final_model.predict(X_test)"
   ]
  },
  {
   "cell_type": "code",
   "execution_count": 15,
   "id": "4c347184",
   "metadata": {},
   "outputs": [
    {
     "name": "stdout",
     "output_type": "stream",
     "text": [
      "Accuracy on test data:  0.7710237659963437\n",
      "F1 Score (macro):  0.7773106101668689\n",
      "F1 Score (micro):  0.7710237659963437\n",
      "F1 Score (weighted):  0.7716653809353897\n"
     ]
    }
   ],
   "source": [
    "test_accuracy = final_model.score(X_test, y_test)\n",
    "f1_accuracy = f1_score(y_test,results,average='macro')\n",
    "f1_accuracym = f1_score(y_test,results,average='micro')\n",
    "f1_accuracyw = f1_score(y_test,results,average='weighted')\n",
    "print(\"Accuracy on test data: \" ,test_accuracy)\n",
    "print('F1 Score (macro): ', f1_accuracy)\n",
    "print('F1 Score (micro): ', f1_accuracym)\n",
    "print('F1 Score (weighted): ', f1_accuracyw)"
   ]
  },
  {
   "cell_type": "code",
   "execution_count": 17,
   "id": "0b06a5d7",
   "metadata": {},
   "outputs": [],
   "source": [
    "from sklearn.metrics import confusion_matrix"
   ]
  },
  {
   "cell_type": "code",
   "execution_count": 18,
   "id": "c45b35fc",
   "metadata": {},
   "outputs": [
    {
     "data": {
      "text/plain": [
       "array([[230,   1,  67,   4],\n",
       "       [  1, 357,   3, 101],\n",
       "       [ 36,   3, 452, 103],\n",
       "       [  3,  74, 105, 648]], dtype=int64)"
      ]
     },
     "execution_count": 18,
     "metadata": {},
     "output_type": "execute_result"
    }
   ],
   "source": [
    "cm = confusion_matrix(y_test, results, labels=None, sample_weight=None)\n",
    "cm"
   ]
  },
  {
   "cell_type": "code",
   "execution_count": 19,
   "id": "8f9296ad",
   "metadata": {},
   "outputs": [],
   "source": [
    "cm_df =  pd.DataFrame(cm, index= [i for i in ['Negative','Positive',\n",
    "                                               'Slightly Negative',\n",
    "                                              'Slightly Positive']],\n",
    "                     columns= [i for i in ['Negative','Positive',\n",
    "                                               'Slightly Negative',\n",
    "                                              'Slightly Positive']])"
   ]
  },
  {
   "cell_type": "code",
   "execution_count": 20,
   "id": "749c97ff",
   "metadata": {},
   "outputs": [
    {
     "data": {
      "text/plain": [
       "<AxesSubplot:>"
      ]
     },
     "execution_count": 20,
     "metadata": {},
     "output_type": "execute_result"
    },
    {
     "data": {
      "image/png": "[encoded data removed]",
      "text/plain": [
       "<Figure size 432x288 with 2 Axes>"
      ]
     },
     "metadata": {
      "needs_background": "light"
     },
     "output_type": "display_data"
    }
   ],
   "source": [
    "import seaborn as sns\n",
    "sns.heatmap(cm_df, annot=True,cmap='Blues',fmt='g')"
   ]
  },
  {
   "cell_type": "code",
   "execution_count": null,
   "id": "9473d8be",
   "metadata": {},
   "outputs": [],
   "source": []
  }
 ],
 "metadata": {
  "kernelspec": {
   "display_name": "Python 3 (ipykernel)",
   "language": "python",
   "name": "python3"
  },
  "language_info": {
   "codemirror_mode": {
    "name": "ipython",
    "version": 3
   },
   "file_extension": ".py",
   "mimetype": "text/x-python",
   "name": "python",
   "nbconvert_exporter": "python",
   "pygments_lexer": "ipython3",
   "version": "3.9.7"
  }
 },
 "nbformat": 4,
 "nbformat_minor": 5
}
